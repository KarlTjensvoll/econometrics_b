{
 "cells": [
  {
   "cell_type": "code",
   "execution_count": null,
   "metadata": {},
   "outputs": [],
   "source": [
    "from sys import path\n",
    "path.append('../')\n",
    "import LinearModels as lm\n",
    "import NonLinearModels_ante as nlm"
   ]
  },
  {
   "cell_type": "code",
   "execution_count": null,
   "metadata": {},
   "outputs": [],
   "source": [
    "import numpy as np\n",
    "from numpy import linalg as la\n",
    "from scipy.stats import norm\n",
    "from scipy import optimize\n",
    "from tabulate import tabulate\n",
    "from matplotlib import pyplot as plt\n",
    "\n",
    "%load_ext autoreload\n",
    "%autoreload 2"
   ]
  },
  {
   "cell_type": "markdown",
   "metadata": {},
   "source": [
    "Corner Solution Models\n",
    "======================\n",
    "\n",
    "The purpose of this week's problem set is to estimate a censored\n",
    "regression model known as the Tobit Model. Censored regression models\n",
    "are relevant when the dependent variable has positive probability mass\n",
    "at some point, but is continuous in other ranges. One example is\n",
    "top-coded income data, where the only available information is whether a\n",
    "particular individual has income at or above some threshold level. In\n",
    "this case, the income data are right-censored and the censoring is\n",
    "basically a \"flaw\" in the data. A variable can also be left-censored. In\n",
    "this case, the observed variable equals the threshold value when the\n",
    "original variables is less than or equal to the threshold level. Another\n",
    "situation where censored regression models can be applied is the case of\n",
    "corner solutions. These arise, e.g., in consumption problems, where a\n",
    "corner solution exists when a consumer consumes nothing of a particular\n",
    "commodity. In this case, the data is not \" flawed\" but censoring is due\n",
    "to the behaviour of the economic agent.\n",
    "\n",
    "A censored variable has positive probability mass at some point. The\n",
    "case of a left-censored variable is illustrated in Figure 1 below.\n",
    "\n",
    "![image](../img/figure1.jpg)\n",
    "\n"
   ]
  },
  {
   "cell_type": "markdown",
   "metadata": {},
   "source": [
    "The Tobit Model\n",
    "---------------\n",
    "\n",
    "Consider the Tobit model for a randomly drawn observation\n",
    "\n",
    "$$\n",
    "\\begin{align}\n",
    "\\,y_{i}^{\\ast } &=\\mathbf{x}_{i}\\mathbf{\\beta }+u_{i} \\quad \\text{ where } \n",
    "u_{i}|\\mathbf{x}_{i}\\sim \\mathcal{N}\\left( 0,\\sigma ^{2}\\right) \\\\\n",
    "y_{i} &= \\max \\left( 0,y_{i}^{\\ast }\\right)\n",
    "\\end{align}\n",
    "$$\n",
    "\n",
    "$y_{i}^{\\ast }$ is a latent variable that is incompletely observed: $y_{i}$ is observed only when $y_{i}^{\\ast }>0$. $\\mathbf{x}_{i}$ is an observed vector of covariates and $\\mathbf{\\beta }$ is a vector of parameters which we seek to estimate. With respect to the latter, the crucial assumption is that the random independent error term, $u_{i}$, is normal.\n",
    "\n",
    "The conditional expectation $\\mathrm{E}\\left(y|\\mathbf{x}\\right)$ is\n",
    "\n",
    "$$\n",
    "\\begin{align}\n",
    "\\mathrm{E}\\left( y|\\mathbf{x}\\right) &=\\Pr \\left( y=0|\\mathbf{x}\\right) \\cdot 0+\\Pr \\left(\n",
    "y>0|\\mathbf{x}\\right) \\cdot \\mathrm{E}\\left( y|\\mathbf{x},y>0\\right)  \\notag \\\\\n",
    "&= \\Pr \\left( y>0|\\mathbf{x}\\right) \\cdot \\mathrm{E}\\left( y|\\mathbf{x},y>0\\right),  \\tag{1} \n",
    "\\end{align} \n",
    "$$\n",
    "\n",
    "where $\\Pr \\left( y>0|\\mathbf{x}\\right)$ is given by \n",
    "\n",
    "$$\n",
    "\\begin{align}\n",
    "\\Pr \\left( y>0|\\mathbf{x}\\right) &=\\Pr \\left( y^{\\ast }>0\\mathbf{|x}\\right) \n",
    "\\notag \\\\\n",
    "&=\\Pr \\left( \\mathbf{x}\\mathbf{\\beta}+u>0\\right)  \\notag \\\\\n",
    "&=\\Pr \\left( u>-\\mathbf{x}\\mathbf{\\beta}\\right)  \\notag \\\\\n",
    "&=\\Pr \\left( \\frac{u}{\\sigma } > \\frac{-\\mathbf{x}\\mathbf{\\beta}}{\\sigma }\\right)  \\notag \\\\\n",
    "&=1-\\Phi \\left( \\frac{-\\mathbf{x}\\mathbf{\\beta}}{\\sigma }\\right) \n",
    "=\\Phi\\left(\\frac{\\mathbf{x}\\mathbf{\\beta}}{\\sigma }\\right),  \\tag{2} \n",
    "\\end{align}\n",
    "$$\n",
    "\n",
    "where the second-last equality follows from the normality assumption,\n",
    "and the last one from the symmetry of the normal distribution. To obtain an expression for $\\mathrm{E}\\left(y|\\mathbf{x},y>0\\right)$ write\n",
    "\n",
    "$$\n",
    "\\begin{align}\n",
    "\\mathrm{E}\\left( y|\\mathbf{x},y>0\\right) \n",
    "&= \\mathrm{E}\\left(y^\\star \\mathbf{|x},y^\\star>0\\right)   \\notag \\\\\n",
    "&= \\mathrm{E}\\left(\\mathbf{x}\\mathbf{\\beta} + u \\mathbf{|x}, \\mathbf{x}\\mathbf{\\beta} + u >0\\right)   \\notag \\\\\n",
    "&=\\mathbf{x}\\mathbf{\\beta}+\\mathrm{E}\\left( u|\\mathbf{x},u>-\\mathbf{x}\\mathbf{\\beta}\\right) \\notag \\\\\n",
    "&= \\mathbf{x}\\mathbf{\\beta} + \\mathrm{E}\\left (   u \\left  | \\mathbf{x} , \\frac{u}{\\sigma} > \\frac{-\\mathbf{x}\\mathbf{\\beta}}{\\sigma} \\right. \\right ). \\tag{3}  \n",
    "\\end{align}\n",
    "$$\n",
    "\n",
    "The only difficult part here is\n",
    "$E\\left( u|\\mathbf{x},u/\\sigma>-\\mathbf{%\n",
    "x\\beta /\\sigma}\\right)$. Rewrite this as \n",
    "\n",
    "$$\n",
    "\\begin{aligned}\n",
    "\\mathrm{E}\\left (   u \\left  | \\mathbf{x} , \\frac{u}{\\sigma} > \\frac{-\\mathbf{x}\\mathbf{\\beta}}{\\sigma} \\right. \\right ) \n",
    "&=\\sigma \\mathrm{E}\\left( \\left. \n",
    "\\frac{u}{\\sigma }\\right\\vert \\frac{u}{\\sigma }>\\frac{-\\mathbf{x}\\mathbf{\\beta}}{%\n",
    "\\sigma }\\right) \\\\\n",
    "&=\\sigma \\frac{\\phi \\left( -\\mathbf{x}\\mathbf{\\beta}/\\sigma \\right) }{1-\\Phi\\left(-\\mathbf{x}\\mathbf{\\beta}/\\sigma \\right) }\\end{aligned}\n",
    "$$\n",
    "\n",
    "The nominator gives the density at $-\\mathbf{x}\\mathbf{\\beta}/\\sigma$ and\n",
    "the denominator gives the probability that\n",
    "$u/\\sigma >-\\mathbf{x}\\mathbf{\\beta}%\n",
    "/\\sigma$, i.e., it scales the density up by the probability to observe an individual with $y^{\\ast }>0$. This is illustrated in figure 2, where the density function for a standard normal is shown together with the density of a standard normal that is truncated at zero. The truncation implies that the mean of the truncated distribution is positive, as indicated by the dotted line.\n",
    "\n",
    "![image](../img/figure2.jpg)\n",
    "\n",
    "Using the symmetry of the normal distribution, $1-\\Phi \\left( -%\n",
    "\\mathbf{x}\\mathbf{\\beta}/\\sigma \\right) =\\Phi \\left( \\mathbf{x}\\mathbf{\\beta}/\\sigma \\right)$\n",
    "and\n",
    "$\\phi \\left( -\\mathbf{x}\\mathbf{\\beta}/\\sigma \\right) =\\phi \\left( \\mathbf{%\n",
    "x\\beta }/\\sigma \\right)$, we have that\n",
    "\n",
    "$$\n",
    "E\\left( u|\\mathbf{x},u>-\\mathbf{x}\\mathbf{\\beta}\\right) =\\sigma \\,\\frac{\\phi \\left( \n",
    "\\mathbf{x}\\mathbf{\\beta}/\\sigma \\right) }{\\Phi \\left( \\mathbf{x}\\mathbf{\\beta}/\\sigma\n",
    "\\right) } \n",
    "$$\n",
    "\n",
    "The expression for $E\\left( y|\\mathbf{x},y>0\\right)$ found in\n",
    "(3) can then be written as:\n",
    "\n",
    "$$\n",
    "E\\left( y|\\mathbf{x},y>0\\right) =\\mathbf{x}\\mathbf{\\beta}+\\sigma \\lambda(\\mathbf{x}\\mathbf{\\beta}/\\sigma) \\tag{4}\n",
    "$$\n",
    "\n",
    "where\n",
    "$\\lambda(\\mathbf{x}\\mathbf{\\beta}/\\sigma) \\equiv \\phi \\left( \\mathbf{x}\\mathbf{\\beta}/\\sigma\n",
    "\\right) / \\Phi \\left( \\mathbf{x}\\mathbf{\\beta}/\\sigma \\right)$ is called the\n",
    "inverse Mills ratio, while the expression in\n",
    "(1) becomes:\n",
    "\n",
    "$$\n",
    "\\mathrm{E}\\left( y|\\mathbf{x}\\right) =\n",
    "  \\mathbf{x}\\mathbf{\\beta}\\cdot\\Phi\\left(\\frac{\\mathbf{x}\\mathbf{\\beta}}{\\sigma }\\right) + \\sigma\\,\\phi\\left(\\frac{\\mathbf{x}\\mathbf{\\beta}}{\\sigma }\\right). \\tag{5}\n",
    "$$\n",
    "\n",
    "While $\\lambda(z)$ does look weird, it also has sensible properties\n",
    "which make sense for our model. In particular, $\\lambda(z)>0$ for all\n",
    "$z \\in \\mathbb{R}$ with $\\lambda(z) \\rightarrow 0$ for\n",
    "$z \\rightarrow \\infty$ and $\\lambda(z) \\rightarrow \\infty$ for\n",
    "$z \\rightarrow -\\infty$."
   ]
  },
  {
   "cell_type": "markdown",
   "metadata": {},
   "source": [
    "Estimation\n",
    "----------\n",
    "\n",
    "The model has a distinct nonlinear component that depends on the\n",
    "probability that $y_{i}^{\\ast }>0$. The log-likelihood contribution for\n",
    "observation $i$ therefore consists of two components:\n",
    "\n",
    "$$\n",
    "\\begin{align}\n",
    "\\ell_{i} = \\mathbf{1}\\left\\{ y_{i}=0\\right\\} \\log \\left[ 1-\\Phi \\left( \\mathbf{x}_{i}\\mathbf{\\beta }/\\sigma \\right) \\right] +\\mathbf{1}\\left\\{ y_{i}>0\\right\\}\n",
    "\\left\\{ -\\frac{1}{2}\\left[ \\log \\left( 2\\pi \\right) +\\log \\left( \\sigma\n",
    "^{2}\\right) +\\left( y_{i}-\\mathbf{x}_{i}\\mathbf{\\beta }\\right) ^{2}/\\sigma\n",
    "^{2}\\right] \\right\\} \\tag{6}\n",
    "\\end{align}\n",
    "$$\n",
    "\n",
    "For each observation, the likelihood contribution is determined either\n",
    "by the first term which is the probability of $y_{i}=0$, or the second\n",
    "term which is similar to the log-likelihood of the linear regression\n",
    "model."
   ]
  },
  {
   "cell_type": "markdown",
   "metadata": {},
   "source": [
    "Marginal effects\n",
    "----------------\n",
    "\n",
    "If the interest lies in the marginal effect of a change in a continuous variable $x_{j}$ conditional on $y>0$ then we simply differentiate eq. (4) wrt. $x_j$. Note that since we will be looking at $\\mathrm{E}(y|\\mathbf{x},y>0)$ and $\\mathrm{E}(y|\\mathbf{x})$ where we condition on $\\mathbf{x}$, this means that we will have to evaluate the expressions at the particular value of $\\mathbf{x}$ (When you see these conditional expectations, recall that you should really be thinking $\\mathrm{E}(y|\\mathbf{x} = \\mathbf{x}^0,y>0)$, which will be a function of $\\mathbf{x}^ 0$. In other words, in these expressions, $\\mathbf{x}$ will be $1 \\times K$ and not $N \\times K$.).\n",
    "\n",
    "In the following, we will make use of the fact that\n",
    "$\\frac{\\partial }{\\partial z}\\lambda(z) = -\\lambda(z)[z + \\lambda(z)]$.\n",
    "Writing $\\lambda = \\lambda (\\mathbf{x}\\mathbf{\\beta}/\\sigma)$ in order to keep notation simple, the first derivative of the expression in eq. (4) provides:\n",
    "\n",
    "$$\n",
    "\\begin{align}\n",
    "\\frac{\\partial \\mathrm{E}\\left( y|\\mathbf{x},y>0\\right) }{\\partial x_{j}} \n",
    "&=\\beta_{j}+\\sigma \\frac{\\partial\\lambda}{\\partial x_{j}}  \\notag \\\\\n",
    "&=\\beta_{j}+\\sigma \\left[-\\lambda \\cdot \\left(\\mathbf{x}\\mathbf{\\beta}/\\sigma +\\lambda\\right) \\right]\\left(\\beta _{j}/\\sigma \\right)  \\notag \\\\\n",
    "&=\\beta_{j}\\left[ 1-\\lambda \\cdot \\left( \\mathbf{x}\\mathbf{\\beta}/\\sigma +\\lambda\n",
    "\\right) \\right]. \\tag{7} \n",
    "\\end{align}\n",
    "$$\n",
    "\n",
    "In the exercise, you will be asked to compute\n",
    "$\\partial \\mathrm{E}(y|\\mathbf{x} = \\bar{\\mathbf{x}},y>0)/\\partial x_j$.\n",
    "\n",
    "If the interest centers on\n",
    "$\\partial \\mathrm{E}\\left( y|\\mathbf{x}\\right)\n",
    "/\\partial x_{j}$, then the marginal effect is obtained by\n",
    "differentiating the expression in (5) with respect to $\\mathbf{x}$:\n",
    "\n",
    "$$\n",
    "\\begin{align}\n",
    "\\frac{\\partial \\mathrm{E}\\left( y|\\mathbf{x}\\right) }{\\partial x_{j}}\n",
    "&= \\beta_j\\Phi\\left(\\frac{\\mathbf{x}\\mathbf{\\beta}}{\\sigma }\\right) +\n",
    "\\mathbf{x}\\mathbf{\\beta}\\,\\phi\\left(\\frac{\\mathbf{x}\\mathbf{\\beta}}{\\sigma }\\right)\\frac{\\beta_j}{\\sigma} +  \n",
    "\\sigma\\,\\phi'\\left(\\frac{\\mathbf{x}\\mathbf{\\beta}}{\\sigma}\\right)\\frac{\\beta_j}{\\sigma} \\tag{8} \\\\\n",
    "&= \\beta _{j}\\Phi\\left(\\frac{\\mathbf{x}\\mathbf{\\beta}}{\\sigma }\\right), \\tag{9}\n",
    "\\end{align}\n",
    "$$\n",
    "\n",
    "where $\\phi'(z)=\\partial\\phi(z)/\\partial z$ denotes the first derivative of the pdf of the standard normal distribution, and has the property that $\\phi'(z)=-z\\phi(z)$, (Try to prove it!) thus explaining why the last two terms of eq. (8) cancel out.\n",
    "\n",
    "*Note:* Both functional forms for the marginal effect takes the form of a correction multiplied with the parameter for the variable in question. For eq. (9), the marginal effect must have the same sign as $\\beta_j$ since $\\Phi(z) > 0 \\, \\forall z$. The same is true for (7), because it turns out that the correction\n",
    "factor there will be strictly between zero and one."
   ]
  },
  {
   "cell_type": "markdown",
   "metadata": {},
   "source": [
    "Empirical analysis\n",
    "==================\n",
    "\n",
    "The exercise asks you to estimate a censored regression model for the\n",
    "number of working hours in the labour market, using the `mroz_hours.txt`\n",
    "dataset (same as PS04, with working hours). Working hours is a\n",
    "left-censored variable because the variable hours takes the value zero\n",
    "when no hours are put in the labour market. The data set\n",
    "`mroz_hours.txt` contains observations on 753 women for the following\n",
    "variables:\n",
    "\n",
    "|*Variable*  | *Definition*|\n",
    "|------------| ---------------------------------|\n",
    "|`Hours`     | Number of hours worked annually|\n",
    "|`Nwifeinc`  | Non wife income|\n",
    "|`Educ`      | Years of education|\n",
    "|`Exper`     | Experience in labour market|\n",
    "|`Expersq`   | Experience squared|\n",
    "|`Age`       | Age|\n",
    "|`Kidslt6`   | Number of kids aged 0--5|\n",
    "|`Kidsge6`   | Number of kids aged 6--18|"
   ]
  },
  {
   "cell_type": "code",
   "execution_count": null,
   "metadata": {},
   "outputs": [],
   "source": [
    "# Load data\n",
    "data =  np.loadtxt('mroz_hours.txt', delimiter=',')\n",
    "n = data.shape[0]\n",
    "\n",
    "# Declare variables\n",
    "hours = data[:, 0].reshape(-1, 1)\n",
    "nwifeinc = data[:, 2].reshape(-1, 1)\n",
    "exper = data[:, 3].reshape(-1, 1)\n",
    "expersq = data[:, 4].reshape(-1, 1)\n",
    "age = data[:, 5].reshape(-1, 1)\n",
    "kidslt6 = data[:, 6].reshape(-1, 1)\n",
    "kidsge6 = data[:, 7].reshape(-1, 1)\n",
    "educ = data[:, 11].reshape(-1, 1)"
   ]
  },
  {
   "cell_type": "code",
   "execution_count": null,
   "metadata": {},
   "outputs": [],
   "source": [
    "# Declare vector and matrix\n",
    "y = hours\n",
    "ones = np.ones((n, 1))\n",
    "x = np.hstack((ones, nwifeinc, educ, exper, expersq, age, kidslt6, kidsge6))\n",
    "k = x.shape[1]"
   ]
  },
  {
   "cell_type": "code",
   "execution_count": null,
   "metadata": {},
   "outputs": [],
   "source": [
    "# Declare labels\n",
    "lbly = 'hours'\n",
    "lblx = ['cnst', 'nwifeinc', 'educ', 'exper', 'expersq', 'age', 'kidslt6', 'kidsge6']"
   ]
  },
  {
   "source": [
    "## Question 0:\n",
    "As a preperatino, plot y in a histogram. Does the distribution of hours worked look probelmatic?"
   ],
   "cell_type": "markdown",
   "metadata": {}
  },
  {
   "cell_type": "code",
   "execution_count": null,
   "metadata": {},
   "outputs": [],
   "source": [
    "# The matbplotlib.pyplot module is already loaded for you as plt.\n",
    "# A hint is to use more bins than default, try for example 50 bins.\n",
    "# FILL IN: Plot a histogram of y."
   ]
  },
  {
   "cell_type": "code",
   "execution_count": null,
   "metadata": {},
   "outputs": [],
   "source": [
    "plt.hist(y, 50) ;"
   ]
  },
  {
   "source": [
    "## Question 1:\n",
    "Estimate by OLS a regression function of annual hours worked as a function of the variables (`nwifeinc, educ, exper, expersq, age, kidslt6, kidsge6`), using the LinearModels module. \n",
    "\n",
    "You then have to create a numpy array called `theta0` with dimensions $9 \\times 1$. This need to be filled in the first eigth rows with the $\\hat{\\beta}$ coefficients from the ols estimation. The last row needs to filled with the $\\hat{\\sigma}$ from the ols estimation (note that we store $\\hat{\\sigma}$ and not $\\hat{\\sigma}^2$). This is because we need to estimate both $\\hat{\\beta}$ and $\\hat{\\sigma}$ in the log likelihood contribution function from eq. (6) in the next question."
   ],
   "cell_type": "markdown",
   "metadata": {}
  },
  {
   "cell_type": "code",
   "execution_count": null,
   "metadata": {},
   "outputs": [],
   "source": [
    "# FILL IN: Estimate the model of y on x using OLS\n",
    "# FILL IN: Print the results in a nice table\n",
    "\n",
    "# FILL IN: Create a theta0 array with (9, 1) dimensions\n",
    "# FILL IN: Fill the first 8 rows with b_hat from the OLS regression\n",
    "# FILL IN: Fill the last row with sigma2 from the OLS regression"
   ]
  },
  {
   "source": [
    "## Question 2:\n",
    "Finish writing the criterion function, in the `NonLinearModels_ante.py` based on eq. (6). Then, estimate the model.\n",
    "\n",
    "*Note:* In the code, G is matrix from $\\Phi \\left( \\mathbf{x}_{i}\\mathbf{\\beta }/\\sigma \\right)$, where $\\Phi$ is the cummulative normal distribution.\n",
    "\n",
    "You can check if you got the correct result below."
   ],
   "cell_type": "markdown",
   "metadata": {}
  },
  {
   "cell_type": "code",
   "execution_count": null,
   "metadata": {},
   "outputs": [],
   "source": [
    "np.isclose(\n",
    "    np.mean(nlm.tobit_criterion(theta0, y, x))\n",
    "    , -5.257462977706353\n",
    ")"
   ]
  },
  {
   "cell_type": "code",
   "execution_count": null,
   "metadata": {
    "tags": []
   },
   "outputs": [],
   "source": [
    "result = nlm.estimate(\n",
    "    nlm.tobit_criterion, theta0, y, x\n",
    ")"
   ]
  },
  {
   "cell_type": "markdown",
   "metadata": {},
   "source": [
    "## Question 2:\n",
    "Estimate the corresponding Censored Regression Model by Maximum Likelihood. To do this, $\\texttt{[FILL IN]}$ the blanks in the $\\texttt{criterion}$ function in the $\\texttt{tobit}$ class and supply it to the $\\texttt{estimation\\_m}$ function exactly as you did with the linear equation last week. Report also $\\hat{\\sigma}^{2}$ and $R_{\\mathrm{Tobit}}^{2}$. \n",
    "\n",
    "\\[*Hint:* $R_{\\mathrm{Tobit}}^{2}$ is the squared correlation between $y_{i}$ and $\\hat{y}_{i}$, where $\\hat{y}_i = \\Phi (\\mathbf{x}_i \\hat{\\beta}/\\hat{\\sigma})\\mathbf{x}_i \\hat{\\beta} + \\hat{\\sigma}\\phi(\\mathbf{x}_i \\hat{\\beta}/\\hat{\\sigma})$ is the estimate of $\\mathrm{E}\\left(y|\\mathbf{x}=\\mathbf{x}_{i}\\right )$\\]"
   ]
  },
  {
   "source": [
    "## Question 3:\n",
    "Calculate the $R_{\\mathrm{Tobit}}^{2}$, this is the squared correlation between $y_{i}$ and $\\hat{y}_{i}$, where $\\hat{y}_i = \\Phi (\\mathbf{x}_i \\hat{\\beta}/\\hat{\\sigma})\\mathbf{x}_i \\hat{\\beta} + \\hat{\\sigma}\\phi(\\mathbf{x}_i \\hat{\\beta}/\\hat{\\sigma})$, which is the estimate of $\\mathrm{E}\\left(y|\\mathbf{x}=\\mathbf{x}_{i}\\right )$\\] ($\\Phi$ is the normal cdf, and $\\phi$ is the normal pdf)."
   ],
   "cell_type": "markdown",
   "metadata": {}
  },
  {
   "cell_type": "code",
   "execution_count": null,
   "metadata": {},
   "outputs": [],
   "source": [
    "# FILL IN: A recomendation is to get the beta coefficient from the tobit regression and store it in a variable (remember that the last b_hat value from your results is the estimate for sigma, and should not be used to calculate R2)\n",
    "# FILL IN: Another recommendation is to get the standard errors from the tobit regression (again, the final standard error belongs to the sigma estimation, and sohuld not be included).\n",
    "\n",
    "# FILL IN: calculate yhat given the ecuation above.\n",
    "# FILL IN: use np.corrcoef() to calculate the correlation between y and y_hat. You may need to flatten the input arrays.\n",
    "# Square the correlation between y and y_hat, this is your R2 value. If you call this value R2_tob, it will work with the rest of the code.\n",
    "\n",
    "# You should get something close to:\n",
    "np.isclose(R2_tob, 0.52461293*0.52461293)"
   ]
  },
  {
   "cell_type": "code",
   "execution_count": null,
   "metadata": {},
   "outputs": [],
   "source": [
    "# Add to dict and print\n",
    "result['R2'] = R2_tob\n",
    "result['sigma2'] = result.get('b_hat')[-1]\n",
    "lm.print_table(\n",
    "    (lbly, lblx), result, title='Tobit Results', floatfmt='.2f'\n",
    ")"
   ]
  },
  {
   "source": [
    "Your table should look something like this:\n",
    "\n",
    "Tobit Results <br>\n",
    "Dependent variable: hours <br>\n",
    "\n",
    "|          |    Beta |     Se |   t-values |\n",
    "|----------|---------|--------|------------|\n",
    "| cnst     | 1276.99 | 449.66 |       2.84 |\n",
    "| nwifeinc |   -8.50 |   4.41 |      -1.93 |\n",
    "| educ     |   71.65 |  21.68 |       3.30 |\n",
    "| exper    |  128.77 |  16.22 |       7.94 |\n",
    "| expersq  |   -1.76 |   0.50 |      -3.50 |\n",
    "| age      |  -58.41 |   7.84 |      -7.45 |\n",
    "| kidslt6  | -918.07 | 112.29 |      -8.18 |\n",
    "| kidsge6  |  -28.49 |  38.82 |      -0.73 |\n",
    "R² = 0.275 <br>\n",
    "σ² = 1121.717"
   ],
   "cell_type": "markdown",
   "metadata": {}
  },
  {
   "cell_type": "markdown",
   "metadata": {},
   "source": [
    "## Question 3: \n",
    "Calculate the two types of marginal effects, cf. eqs. (7) and (9), of taking an additional year of education evaluated at the mean values of the $\\mathbf{x}$'s. Remember that $\\lambda(\\mathbf{x}\\mathbf{\\beta}/\\sigma) \\equiv \\phi \\left( \\mathbf{x}\\mathbf{\\beta}/\\sigma\n",
    "\\right) / \\Phi \\left( \\mathbf{x}\\mathbf{\\beta}/\\sigma \\right)$ is called the inverse Mills ratio.\n",
    "\n",
    "I reiterate the functions:\n",
    "$$\n",
    "\\begin{align}\n",
    "\\frac{\\partial \\mathrm{E}\\left( y|\\mathbf{x},y>0\\right) }{\\partial x} \n",
    "&=\\beta\\left[ 1-\\lambda \\cdot \\left( \\mathbf{x}\\mathbf{\\beta}/\\sigma +\\lambda\n",
    "\\right) \\right]. \\tag{7} \n",
    "\\end{align}\n",
    "$$\n",
    "\n",
    "$$\n",
    "\\begin{align}\n",
    "\\frac{\\partial \\mathrm{E}\\left( y|\\mathbf{x}\\right) }{\\partial x}\n",
    "&= \\beta \\Phi\\left(\\frac{\\mathbf{x}\\mathbf{\\beta}}{\\sigma }\\right), \\tag{9}\n",
    "\\end{align}\n",
    "$$\n"
   ]
  },
  {
   "cell_type": "code",
   "execution_count": null,
   "metadata": {},
   "outputs": [],
   "source": [
    "x0 = np.mean(x, axis=0)\n",
    "x0[4] = x0[3]*x0[3]  # Square of mean, and not mean of square."
   ]
  },
  {
   "cell_type": "code",
   "execution_count": null,
   "metadata": {},
   "outputs": [],
   "source": [
    "# I recommend that you make a function out of this, which takes x an b as an input, which are the representative observation and the b_hat coefficients (from the tobit estimatino) respectively. I have already created the bones of a function for you.\n",
    "\n",
    "def marg_effect(x, b):  \n",
    "    # FILL IN: Calculate first the inverse Mills ratio.\n",
    "    # Write up the marginal effect using eq. (7). Note that the square bracket gives you a single value, which you multiply on the beta vector. Call this margeff_1\n",
    "\n",
    "    # Write up the marginal effect using eq. (9). Again, you multiply the beta vector on a single value. Call this margeff_2\n",
    "\n",
    "    return margeff_1, margeff_2"
   ]
  },
  {
   "cell_type": "code",
   "execution_count": null,
   "metadata": {},
   "outputs": [],
   "source": [
    "# Calculate the marginal effect and print out the effect of education.\n",
    "margeff_1, margeff_2 = marg_effect(x0, result.get('b_hat')[:-1].reshape(-1, 1))\n",
    "table = [\n",
    "    ['dE(y|x,y>0)/dx', margeff_1[2]], \n",
    "    ['dE(y|x)/dx', margeff_2[2]]\n",
    "]\n",
    "print('Marginal effect of an additional year of education from tobit model')\n",
    "print(tabulate(table))"
   ]
  },
  {
   "cell_type": "markdown",
   "metadata": {},
   "source": [
    "## Question 5:\n",
    "Calculate for all individuals the two types of marginal effects of taking an additional year of education. i) Draw a histogram of the marginal effect of education across individuals. ii) Make a scatter plot with educ along the x-axis and the marginal effect along the y-axis. Give an interpretation of your findings."
   ]
  },
  {
   "cell_type": "code",
   "execution_count": null,
   "metadata": {},
   "outputs": [],
   "source": [
    "# If you have written the function correctly, we should be able to pass the whole x matrix thorugh the function.\n",
    "margeff_all_1, margeff_all_2 = marg_effect(x, result.get('b_hat')[:-1].reshape(-1, 1))"
   ]
  },
  {
   "cell_type": "code",
   "execution_count": null,
   "metadata": {},
   "outputs": [],
   "source": [
    "# FILL IN: Plot a histogram of the marginal effect from one additional year of aducation from margeff_all_1\n",
    "# FILL IN: Plot a histogram of the marginal effect from one additional year of aducation from margeff_all_2\n",
    "\n",
    "# FILL IN: Plot a scatterplot of the marginal effect from one additional year of aducation from margeff_all_1\n",
    "# FILL IN: Plot a scatterplot of the marginal effect from one additional year of aducation from margeff_all_2"
   ]
  }
 ],
 "metadata": {
  "kernelspec": {
   "display_name": "Python 3",
   "language": "python",
   "name": "python3"
  },
  "language_info": {
   "codemirror_mode": {
    "name": "ipython",
    "version": 3
   },
   "file_extension": ".py",
   "mimetype": "text/x-python",
   "name": "python",
   "nbconvert_exporter": "python",
   "pygments_lexer": "ipython3",
   "version": "3.8.3-final"
  }
 },
 "nbformat": 4,
 "nbformat_minor": 2
}