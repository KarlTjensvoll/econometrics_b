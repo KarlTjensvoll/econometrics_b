{
 "metadata": {
  "language_info": {
   "codemirror_mode": {
    "name": "ipython",
    "version": 3
   },
   "file_extension": ".py",
   "mimetype": "text/x-python",
   "name": "python",
   "nbconvert_exporter": "python",
   "pygments_lexer": "ipython3",
   "version": "3.8.3-final"
  },
  "orig_nbformat": 2,
  "kernelspec": {
   "name": "python3",
   "display_name": "Python 3",
   "language": "python"
  }
 },
 "nbformat": 4,
 "nbformat_minor": 2,
 "cells": [
  {
   "cell_type": "code",
   "execution_count": 1,
   "metadata": {},
   "outputs": [],
   "source": [
    "import numpy as np\n",
    "from numpy import linalg as la\n",
    "from tabulate import tabulate as tabulate\n",
    "\n",
    "# NP chol. gives only lower triangle\n",
    "from scipy.linalg import cholesky\n",
    "np.set_printoptions(precision=5)\n",
    "import LinearModelsWeek4_ante as lm\n",
    "\n",
    "%load_ext autoreload\n",
    "%autoreload 2"
   ]
  },
  {
   "source": [
    "# Prepare the data\n",
    "In this problem set we consider the state dependency in female **labour market participation** (LMP). The data dpdat.txt comes from the Panel Survey of Income Dynamics (PSID) for the years 1986-1989. The sample consists of 1,442 women aged between 18 and 55 in 1986 who are married or cohabiting. The variables available are the following:\n",
    "\n",
    "  |*Variable*  | *Content* |\n",
    "  |------------| --------------------------------------------|\n",
    "  |y0          | Participation|\n",
    "  |x1          | Fertility|\n",
    "  |x2          | Children aged 2-6.|\n",
    "  |x5          | Children of the same sex (male or female).|\n",
    " | x7         |  Schooling level 1. |\n",
    "  |x8          | Schooling level 2. |\n",
    "  |x9          | Schooling level 3. |\n",
    "  |x10         | Age |\n",
    "  |x11         | Race |\n",
    "  |y1          | Lagged participation |\n",
    "  |Year        | Year of observation |\n",
    "  |const       | Constant (only ones) |"
   ],
   "cell_type": "markdown",
   "metadata": {}
  },
  {
   "source": [
    "### Preperation\n",
    "Start by loading the data. **For today we need only y0, y1 and year**. Use the `np.loadtxt` function. Remember to give it the proper delimited. It also has an argument that allows you to choose which column you want to use, see if you can find which one that is."
   ],
   "cell_type": "markdown",
   "metadata": {}
  },
  {
   "cell_type": "code",
   "execution_count": null,
   "metadata": {},
   "outputs": [],
   "source": [
    "y = # FILL IN participation\n",
    "\n",
    "const = # FILL IN\n",
    "y_l = # FILL IN lagged participation\n",
    "year = # FILL IN\n",
    "\n",
    "T = 4\n",
    "\n",
    "x = np.column_stack((const, y_l))\n",
    "\n",
    "ylbl = 'participation'\n",
    "xlbl = ['const', 'lag participation']"
   ]
  },
  {
   "source": [
    "# Part 1: POLS\n",
    "Today we will focus on a parsimonious model of female LMP (econometricians often use \"parsimonious\" to mean a \"simple\"). \n",
    "\n",
    "Consider first the following AR(1) (autoregressive model of order $1$),\n",
    "\n",
    "$$\n",
    "LMP_{it} = \\alpha_0 +  \\rho LMP_{it-1} + c_i + u_{it}, \\quad t = 1, 2, \\dotsc, T \\tag{1}\n",
    "$$\n",
    "\n",
    "As we have seen before, if one does not take into consideration $c_i$ when estimating $\\rho$, one will get biased results. One way to solve this, which is also a common way for AR(1) processes, is to take first-differences. We then have the model,\n",
    "\n",
    "$$\n",
    "\\Delta LMP_{it} = \\rho \\Delta LMP_{it-1} + \\Delta u_{it}, \\quad t = 2, \\dotsc, T \\tag{2}\n",
    "$$\n",
    "\n",
    "This solves the presence of fixed effects."
   ],
   "cell_type": "markdown",
   "metadata": {}
  },
  {
   "source": [
    "### Question 1\n",
    "Estimate eq. (1) using POLS. \n",
    "* Are there signs of autocorrelation in female labour participation?\n",
    "* What assumptions are no longer satisfied? What happens with fixed effects when we include a lag?\n",
    "\n",
    "*Note:* We need to use the lagged values for participation. But this time we don't need to lag it ourselves, as it is already given to us in the data."
   ],
   "cell_type": "markdown",
   "metadata": {}
  },
  {
   "cell_type": "code",
   "execution_count": null,
   "metadata": {},
   "outputs": [],
   "source": [
    "# FILL IN\n",
    "# Estimate the AR(1) model using OLS\n",
    "# Print out in a nice table"
   ]
  },
  {
   "source": [
    "Your table should look like this:\n",
    "\n",
    "AR(1) <br>\n",
    "Dependent variable: participation\n",
    "\n",
    "|                   |   Beta |      Se |   t-values |\n",
    "|-------------------|--------|---------|------------|\n",
    "| const             |  0.278 | 0.01234 |      22.51 |\n",
    "| lag participation |  0.637 | 0.01303 |      48.89 |\n",
    "R² = 0.403 <br>\n",
    "σ² = 0.106"
   ],
   "cell_type": "markdown",
   "metadata": {}
  },
  {
   "source": [
    "### Question 2\n",
    "Estimate eq. (2) using first differences. \n",
    "* What problem does this solve? \n",
    "* What type of exogeneity assumption is used to justify this method of estimation?\n",
    "\n",
    "*Note:* You have to create the first differencing matrix yourself, and use the `perm` function to permutate the dependen and independent variables. <br>\n",
    "*Note 2:* This time you should use robust standard errors. The function is provided to you."
   ],
   "cell_type": "markdown",
   "metadata": {}
  },
  {
   "cell_type": "code",
   "execution_count": null,
   "metadata": {},
   "outputs": [],
   "source": [
    "# FILL IN\n",
    "# Create a first difference matrix\n",
    "# First difference both LMP and lag of LMP\n",
    "# Estimate AR(1) model using OLS and print a nice table"
   ]
  },
  {
   "source": [
    "Your table should look like this:\n",
    "\n",
    "FD AR(1) <br>\n",
    "Dependent variable: participation\n",
    "\n",
    "|                   |   Beta |     Se |   t-values |\n",
    "|-------------------|--------|--------|------------|\n",
    "| lag participation | -0.321 | 0.0181 |     -17.76 |\n",
    "R² = 0.105 <br>\n",
    "σ² = 0.117"
   ],
   "cell_type": "markdown",
   "metadata": {}
  },
  {
   "source": [
    "## Super short introduction to pooled IV (piv)\n",
    "\n",
    "Consider that we want to estimate the effect of $x_K$ on $y$, including $K - 1$ controls, we then have the usual equation,\n",
    "\n",
    "$$\n",
    "\\mathbf{y} = \\mathbf{X} \\boldsymbol{\\beta} + \\mathbf{u} \\tag{3}\n",
    "$$\n",
    "\n",
    "where $\\mathbf{X} = (\\mathbf{x}_1, \\dotsc, \\mathbf{x}_K)$. If $\\mathbf{x}_K$ is not exogenous, we can define the instrument vector $\\mathbf{Z} = (\\mathbf{x}_1, \\dotsc, \\mathbf{x}_{K - 1}, \\mathbf{z}_1)$, where $\\mathbf{z}_1$ is an instrument for $\\mathbf{x}_K$. The details and necessary assumptions and conditions are outlined in Wooldridge (2010) (chapter 5).\n",
    "\n",
    "We can estimate eq. (1) by OLS using $z_1$ as an instrument for $x_K$, in order to make it easier for you when writing code, I write it up in matrix notation,\n",
    "\n",
    "$$\n",
    "\\boldsymbol{\\hat{\\beta}} = (\\mathbf{\\hat{X'}}\\mathbf{\\hat{X}})^{-1} \\mathbf{\\hat{X'}}\\mathbf{Y}, \\tag{4}\n",
    "$$\n",
    "\n",
    "where $\\mathbf{\\hat{X}} = \\mathbf{Z}(\\mathbf{Z'}\\mathbf{Z})^{-1}\\mathbf{Z'}\\mathbf{X}$."
   ],
   "cell_type": "markdown",
   "metadata": {}
  },
  {
   "source": [
    "# Part 2: Pooled IV\n",
    "It should not be a surprise that models (1) and (2) violates the strict exegoneity assumption, but even if we relax this assumption to sequential exegoneity, the FD-estimator remains inconsistent.\n",
    "\n",
    "A solution for this is to use an instrument for $\\Delta LMP_{it-1}$. The biggest issue is to find an instrument that is not only relevant, but also exogenous.\n",
    "\n",
    "We often use an additional lag as instruments. So for $\\Delta LMP_{it-1}$, we can use $LMP_{it-2}$. In general, we have all possible lags available as instruments. So for $\\Delta LMP_{it-1}$ we have, $\n",
    "LMP_{it-2}^{\\textbf{o}} = (LMP_{i0}, LMP_{i1}, \\dotsc LMP_{it-2})$ available as instruments.\n",
    "\n",
    "*Note:* $R^2$ has no meaning in IV-regressions, you can report it if you want to. But I set it to 0."
   ],
   "cell_type": "markdown",
   "metadata": {}
  },
  {
   "source": [
    "### Question 1\n",
    "Estimate eq. (2) by using the lag of the independent variable in levels, $z_{it} = LMP_{it-2}$ as an instrument. You need to finish writing the `est_piv` function and a part of the `estimate` function.\n",
    "\n",
    "*Note:* In the estimate function, the variance function takes x as an argument. But we want to pass the `variance` function $\\mathbf{\\hat{X}}$ instead. <br>\n",
    "*Note 2:* In order to create the instrument, you need to create a lag matrix, and use `perm`."
   ],
   "cell_type": "markdown",
   "metadata": {}
  },
  {
   "source": [
    "# FILL IN\n",
    "# Create first a lag matrix\n",
    "# Lag the lagged LMP variable\n",
    "# Finish writing the piv function\n",
    "# Finish writing the estimate function\n",
    "# Estimate using first differences and lagged first differences. Use the 2. lag as instrument."
   ],
   "cell_type": "code",
   "metadata": {},
   "execution_count": null,
   "outputs": []
  },
  {
   "source": [
    "Your table should look like this:\n",
    "\n",
    "FD-IV AR(1) <br>\n",
    "Dependent variable: participation\n",
    "\n",
    "|                   |   Beta |     Se |   t-values |\n",
    "|-------------------|--------|--------|------------|\n",
    "| lag participation |  0.296 | 0.0469 |       6.30 |\n",
    "R² = 0.000 <br>\n",
    "σ² = 0.167"
   ],
   "cell_type": "markdown",
   "metadata": {}
  },
  {
   "source": [
    "### Question 2\n",
    "Estimate eq. (2) by using the lag of the independent variable in first differences, $z_{it} = \\Delta LMP_{it-2}$ as an instrument."
   ],
   "cell_type": "markdown",
   "metadata": {}
  },
  {
   "cell_type": "code",
   "execution_count": null,
   "metadata": {},
   "outputs": [],
   "source": [
    "# FILL IN\n",
    "# Lag the first differenced lag LMP variable\n",
    "# The second lag uses up an extra observation, so you need to use the year variable to shorten both first differenced LMP and the 1. first difference lag.\n",
    "# Estimate using first differences and lagged first differences. Use the 2. first difference lag as instrument.\n",
    "reduced_year = year[year != 1986]  # Remove first year, since we loose the first obs when doing first differences."
   ]
  },
  {
   "source": [
    "Your table should look like this:\n",
    "FD-IV AR(1) <br>\n",
    "Dependent variable: participation\n",
    "\n",
    "|                   |   Beta |     Se |   t-values |\n",
    "|-------------------|--------|--------|------------|\n",
    "| lag participation |  0.210 | 0.0880 |       2.39 |\n",
    "R² = 0.000 <br>\n",
    "σ² = 0.154"
   ],
   "cell_type": "markdown",
   "metadata": {}
  },
  {
   "source": [
    "### Summing up Exercise 1 and 2.\n",
    "\n",
    "First of all, try to consider if it is more obvious to use $LMP_{it-2}$ or $\\Delta LMP_{it-2}$ as an instrument for $\\Delta LMP_{it-1}$?\n",
    "\n",
    "Then consider how do the different models compare to each other, some questions that you might discuss with your class mates could be:\n",
    "* Which ones do you feel gives most sense from an economic perspective. \n",
    "* Which ones gives most sense from an econometric perspective? \n",
    "* Do you feel that there is conclusive evidence that there is state dependence in female labour market participation?"
   ],
   "cell_type": "markdown",
   "metadata": {}
  }
 ]
}