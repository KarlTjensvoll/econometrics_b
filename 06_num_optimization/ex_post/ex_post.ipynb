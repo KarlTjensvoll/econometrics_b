{
 "metadata": {
  "language_info": {
   "codemirror_mode": {
    "name": "ipython",
    "version": 3
   },
   "file_extension": ".py",
   "mimetype": "text/x-python",
   "name": "python",
   "nbconvert_exporter": "python",
   "pygments_lexer": "ipython3",
   "version": "3.8.3-final"
  },
  "orig_nbformat": 2,
  "kernelspec": {
   "name": "python3",
   "display_name": "Python 3.8.3 64-bit ('base': conda)",
   "metadata": {
    "interpreter": {
     "hash": "b5806dc0e8395af2278a83b10faec683de35099ebc749f75874e48097d605efb"
    }
   }
  }
 },
 "nbformat": 4,
 "nbformat_minor": 2,
 "cells": [
  {
   "cell_type": "code",
   "execution_count": 1,
   "metadata": {},
   "outputs": [],
   "source": [
    "import estimation as est\n",
    "import numpy as np\n",
    "from tabulate import tabulate\n",
    "from matplotlib import pyplot as plt\n",
    "\n",
    "%load_ext autoreload\n",
    "%autoreload 2"
   ]
  },
  {
   "source": [
    "# PS 06 - Numerical Optimization\n",
    "Most estimation procedures involve maximization of some function, e.g.,\n",
    "likelihood functions or (weighted) squared moment conditions. The\n",
    "purpose of this week's exercise is to introduce the *numerical\n",
    "procedures which are used to maximize the objective function* for\n",
    "various $M$-estimators: Maximum Likelihood (ML), Least Absolute\n",
    "Deviations (LAD), etc.\n",
    "\n",
    "Knowing and being able to apply these procedures can help you answer \n",
    "questions like: What can be done if the\n",
    "algorithm does not converge? What can be done in order to speed up the\n",
    "convergence? Did I find the maximum or something else? Is the model\n",
    "identified? Hence, a minimum knowledge about numerical optimization is\n",
    "critical for the applied researcher.\n"
   ],
   "cell_type": "markdown",
   "metadata": {}
  },
  {
   "source": [
    "Exercise 1 --- Maximizing Univariate Functions\n",
    "==============================================\n",
    "\n",
    "Iterative maximization algorithms\n",
    "---------------------------------\n",
    "\n",
    "The maximization algorithms in this course are all *iterative* in the\n",
    "sense that they start from some initial guess of the parameter,\n",
    "$\\boldsymbol{\\theta}_0$, specified by the researcher. At each iteration, the\n",
    "algorithm moves to a new value of the parameters $\\boldsymbol{\\theta }$ at which\n",
    "the likelihood function, $\\ell \\left( \\boldsymbol{\\theta }\\right)$, is higher\n",
    "than at the previous value of $\\boldsymbol{\\theta }$. Note that the subscripts,\n",
    "thus, are used in this context to express how many iterations the\n",
    "algorithm has run over, i.e., we denote the current value of\n",
    "$\\boldsymbol{\\theta }$ as $\\boldsymbol{\\theta }_{t}$, which is attained after $t$\n",
    "iterations from the starting values $\\boldsymbol{\\theta }_{0}.$ The\n",
    "question is then how to determine the best value of $\\boldsymbol{\\theta} _{t+1}$\n",
    "given $\\boldsymbol{\\theta}_t$?\n"
   ],
   "cell_type": "markdown",
   "metadata": {}
  },
  {
   "source": [
    "### Example: Newton-Raphson (N-R) {#example-newton-raphson-n-r .unnumbered}\n",
    "\n",
    "To determine the best value of $\\boldsymbol{\\theta }_{t+1}$, take a second order\n",
    "Taylor's approximation of $\\ell \\left( \\boldsymbol{\\theta}_{t+1}\\right)$ around $\\ell \\left( \\boldsymbol{\\theta}_{t}\\right) :$\n",
    "\n",
    "$$\\ell \\left( \\boldsymbol{\\theta }_{t+1}\\right) =\\ell \\left( \\boldsymbol{\\theta }_{t}\\right) +\\left( \\boldsymbol{\\theta }_{t+1}-\\boldsymbol{\\theta }_{t}\\right)^{\\prime }\\mathbf{g}_{t}+\\frac{1}{2}\\left( \\boldsymbol{\\theta }_{t+1}-\\boldsymbol{\\theta }_{t}\\right) ^{\\prime }\\mathbf{H}_{t}\\left( \\boldsymbol{\\theta }_{t+1}-\\boldsymbol{\\theta }_{t}\\right)$$ \n",
    "\n",
    "where $\\mathbf{g}_{t}$ and\n",
    "$\\mathbf{H}_{t}$ are the gradient and Hessian of the log--likelihood\n",
    "function evaluated at $\\boldsymbol{\\theta }_{t}$. The gradient equals the\n",
    "average of the scores, i.e., $\\mathbf{g}_{t} \\equiv \\frac{1}{%\n",
    "N}\\sum_{i=1}^{N}\\mathbf{s}_{i}\\left( \\boldsymbol{\\theta }_{t}\\right)$ and $\\mathbf{H}_{t} \\equiv -\\frac{1}{N}\\sum_{i=1}^{N}\\mathbf{H}_{i}\\left( \\boldsymbol{\\theta \n",
    "}_{t}\\right)$ (i.e., the subscript $t$ refers to the iteration).\n",
    "\n",
    "Now find the value that maximizes this approximation to $\\ell\n",
    "\\left( \\boldsymbol{\\theta }_{t+1}\\right).$ The first order conditions are[^1]\n",
    "\n",
    "$$\n",
    "\\nabla _{\\theta _{t+1}}\\ell \\left( \\boldsymbol{\\theta }_{t+1}\\right) =\\mathbf{g}_{t}+\\mathbf{H}_{t}\\left( \\boldsymbol{\\theta }_{t+1}-\\boldsymbol{\\theta }_{t}\\right)\n",
    "\\mathrel{\\mathop :}= \\mathbf{0}\n",
    "$$ \n",
    "\n",
    "with solution \n",
    "\n",
    "$$\n",
    "\\begin{aligned}\n",
    "\\mathbf{H}_{t}\\left( \\boldsymbol{\\theta }_{t+1}-\\boldsymbol{\\theta }_{t}\\right) &=-\\mathbf{g}_{t} \\\\\n",
    "\\left( \\boldsymbol{\\theta }_{t+1}-\\boldsymbol{\\theta }_{t}\\right) &=-\\mathbf{H}_{t}^{-1}\\mathbf{g}_{t} \\\\\n",
    "\\boldsymbol{\\theta }_{t+1} &=\\boldsymbol{\\theta }_{t}-\\mathbf{H}_{t}^{-1}\\mathbf{g}_{t} \\quad \\quad \\quad (1)\n",
    "\\end{aligned} \n",
    "$$\n",
    "\n",
    "This step formalizes the Newton-Raphson (N-R) Algorithm.\n"
   ],
   "cell_type": "markdown",
   "metadata": {}
  },
  {
   "source": [
    "Maximizing a quadratic function\n",
    "-------------------------------\n",
    "\n",
    "This exercise asks you to code up the Newton-Raphson algorithm and to\n",
    "apply it to maximize two univariate functions. Consider first the\n",
    "quadratic function $$y\\left( \\theta \\right) =a+b\\theta +c\\theta ^{2}$$\n",
    "\n",
    "for $c>0$ (and note that $\\theta$ is a scalar here). This function takes\n",
    "its maximum at\n",
    "\n",
    "$$\n",
    "\\frac{\\mathrm{d}y}{\\mathrm{d}\\theta}=b+2c\\theta =0\n",
    "\\qquad\\Rightarrow\\qquad\n",
    "\\theta _{\\max }=-\\frac{b}{2c}\n",
    "$$"
   ],
   "cell_type": "markdown",
   "metadata": {}
  },
  {
   "source": [
    "## Question 1: Calculate first step by hand\n",
    "\n",
    "Consider the quadratic function $y\\left( \\theta\\right)$ for\n",
    "$a=1,b=2,c=3$. Calculate by hand the first step\n",
    "$\\theta_{t+1}-\\theta_{t}$ of the N-R algorithm applied to\n",
    "$y\\left(\\theta\\right)$ starting in $\\theta_{0} = 5$. Compare\n",
    "$\\theta_{t+1}$ to the analytical maximum $-\\frac{b}{2c}$. What do\n",
    "you find? Is this surprising? What happens if you change the\n",
    "starting point?\n",
    "\n",
    "*Hint:* To make it clear, from a starting point of 5, we find $\\theta_{t + 1}$ by calculating eq. (1). Does it make sense that $g_t$ is the first derivative of $y$ (which is already given to you). And that $H_t$ is the second derivative of $y$?"
   ],
   "cell_type": "markdown",
   "metadata": {}
  },
  {
   "source": [
    "## Question 2: Solve numerically using code.\n",
    "\n",
    "Now maximize (numerically) the quadratic function\n",
    "$y\\left( \\theta\\right)$ for $a=1,b=2,c=3$ using the N-R algorithm\n",
    "(in Python!). To do it, code up a loop which, starting in\n",
    "$\\theta_{t}$, works out the next step,\n",
    "$\\theta_{t+1}=\\theta_{t}-\\frac{y(\\theta_{t})^\\prime{}}{y(\\theta_{t})^{\\prime{}\\prime{}}}$\n",
    "and ends when some stopping criterion is met. How many iterations\n",
    "are needed to maximize the quadratic function? Try different\n",
    "starting values , $\\theta _{0}$, and see if the required number of iterations changes.\n",
    "Do you get a different result than in Question 1.a? (Hint: try to\n",
    "compare the forward differenced gradients and Hessian to the\n",
    "analytical one you just computed)\n",
    "\n",
    "Programming hint:\n",
    "As shown, we use the function `forward_diff(func, x0, h)` to estimate the gradient and hessian of a function, using forward derivation (the others being backward and centered).\n",
    "\n",
    "Very often when we do minimizing/maximizing, we use `lambda` functions in python. They allow us to make functions \"on the go\". So if we make a lambda function for $y(\\theta)$, and we want to approximately know its gradient at a specific point x, we could do the following,\n",
    "\n",
    "```\n",
    "y = theta: -(a + b*theta + c*theta*theta)\n",
    "grad = estimation.forward_diff(y, x0, h)\n",
    "```\n",
    "\n",
    "You can compute the Hessian by applying\n",
    "`forward_diff(func, x0, h)` twice. Note that since\n",
    "`forward_diff(func, x0, h)` takes a function as input, you\n",
    "need to define an anonymous function that computes the first\n",
    "differensiation, which is done for you. The inner `forward_diff(fun, x0, h)` should\n",
    "use a stepsize equal to the square root of machine precision,\n",
    "$h=1.49e-08$, whereas the outer (first differenc'ing the first\n",
    "difference) should use a much larger one $h=6e-6$ to avoid\n",
    "approximation error.\n",
    "\n",
    "Your loop should end when some convergence criterion is met. To end\n",
    "a loop, we use a `break` statement."
   ],
   "cell_type": "markdown",
   "metadata": {}
  },
  {
   "cell_type": "code",
   "execution_count": 2,
   "metadata": {},
   "outputs": [],
   "source": [
    "# Initialize function parameters\n",
    "a = 1.0\n",
    "b = 2.0\n",
    "c = 3.0"
   ]
  },
  {
   "cell_type": "code",
   "execution_count": 3,
   "metadata": {},
   "outputs": [],
   "source": [
    "# Initialize machine steps\n",
    "h = np.sqrt(np.finfo(float).eps)  # Square root of machine precision\n",
    "l = 6e-6  # A larger step, or else the hessian might have some issues."
   ]
  },
  {
   "source": [
    "### Question 1"
   ],
   "cell_type": "markdown",
   "metadata": {}
  },
  {
   "cell_type": "code",
   "execution_count": 4,
   "metadata": {},
   "outputs": [],
   "source": [
    "# Function\n",
    "y = lambda theta: a + b*theta + c*theta*theta\n",
    "\n",
    "# First derivate\n",
    "dy = lambda theta: est.forward_diff(y, theta, h)\n",
    "\n",
    "# Second derivate\n",
    "ddy = lambda theta: est.forward_diff(dy, theta, l)"
   ]
  },
  {
   "cell_type": "code",
   "execution_count": 5,
   "metadata": {},
   "outputs": [],
   "source": [
    "# Estimate solution\n",
    "x0 = 5.0  # Start value\n",
    "numeval = 10  # Number of iterations\n",
    "tol0 = 1e-8  # Tolerance"
   ]
  },
  {
   "cell_type": "code",
   "execution_count": 6,
   "metadata": {},
   "outputs": [
    {
     "output_type": "error",
     "ename": "SyntaxError",
     "evalue": "invalid syntax (<ipython-input-6-4b690057ea82>, line 3)",
     "traceback": [
      "\u001b[0;36m  File \u001b[0;32m\"<ipython-input-6-4b690057ea82>\"\u001b[0;36m, line \u001b[0;32m3\u001b[0m\n\u001b[0;31m    grad0 =  # Gradient at point x0\u001b[0m\n\u001b[0m             ^\u001b[0m\n\u001b[0;31mSyntaxError\u001b[0m\u001b[0;31m:\u001b[0m invalid syntax\n"
     ]
    }
   ],
   "source": [
    "## Fill in the missing code.\n",
    "for i in range(numeval):\n",
    "    grad0 =  # Gradient at point x0\n",
    "    hess0 =  # Hessian at point x0\n",
    "    x_new =  # Calculate eq. (1)\n",
    "    grad_new =  # Gradient in new point\n",
    "    if abs(grad_new)<=tol0:  # If gradient is almost 0, we reached min/max.\n",
    "        break\n",
    "    x0 = x_new  # Replace old point with new point."
   ]
  },
  {
   "cell_type": "code",
   "execution_count": 14,
   "metadata": {
    "tags": []
   },
   "outputs": [
    {
     "output_type": "stream",
     "name": "stdout",
     "text": [
      "Tolerance reached on iteration 0.\nOptimal theta reached at -0.333, with gradient -0.00 and hessian 5.99\n"
     ]
    }
   ],
   "source": [
    "for i in range(numeval):\n",
    "    grad0 = dy(x0)\n",
    "    hess0 = ddy(x0)\n",
    "    x_new = x0 - grad0/hess0\n",
    "    grad_new = dy(x_new)\n",
    "    if abs(grad_new) <= tol0:\n",
    "        print(f'Tolerance reached on iteration {i}.')\n",
    "        break\n",
    "    x0 = x_new\n",
    "print(f'Optimal theta reached at {x0:.3f}, with gradient {dy(x0):.2f} and hessian {ddy(x0):.2f}')"
   ]
  },
  {
   "source": [
    "# Question 3 Maximizing the sum of a quadratic and an exponential function\n",
    "\n",
    "Consider now the function\n",
    "$$\n",
    "z\\left( x\\right) =2\\theta^{2}+\\theta^{3}-\\exp \\left( \\theta\\right)\n",
    "$$\n",
    "\n",
    "Question 3.a\n",
    "\n",
    "Maximize $z\\left( \\theta\\right)$ (numerically) for\n",
    "$\\theta\\in \\left[-5,5\\right]$ using the N-R algorithm. Use the starting\n",
    "values $\\theta_{0} \\in \\left\\{ -5,-3,-1,0,1,3,5\\right\\}$. Do you find\n",
    "local minima and maxima? What is the unique global maximum of\n",
    "$z\\left( \\theta\\right)$? Does the Newton-Raphson method fail to converge\n",
    "to the global maximum? Why?\n"
   ],
   "cell_type": "markdown",
   "metadata": {}
  },
  {
   "cell_type": "code",
   "execution_count": 15,
   "metadata": {},
   "outputs": [
    {
     "output_type": "error",
     "ename": "SyntaxError",
     "evalue": "invalid syntax (<ipython-input-15-7ab9126576dc>, line 2)",
     "traceback": [
      "\u001b[0;36m  File \u001b[0;32m\"<ipython-input-15-7ab9126576dc>\"\u001b[0;36m, line \u001b[0;32m2\u001b[0m\n\u001b[0;31m    z = lambda theta:  # Fill in new equation\u001b[0m\n\u001b[0m                       ^\u001b[0m\n\u001b[0;31mSyntaxError\u001b[0m\u001b[0;31m:\u001b[0m invalid syntax\n"
     ]
    }
   ],
   "source": [
    "# Estimate new functions\n",
    "z = lambda theta:  # Fill in new equation\n",
    "dz = lambda theta:  # Fill in to calculate gradient\n",
    "ddz = lambda theta:  # Fill in to calculate gradient"
   ]
  },
  {
   "cell_type": "code",
   "execution_count": 16,
   "metadata": {},
   "outputs": [],
   "source": [
    "# Estimate new functions\n",
    "z = lambda theta: 2*theta*theta + theta*theta*theta - np.exp(theta)\n",
    "dz = lambda theta: est.forward_diff(z, theta, h)\n",
    "ddz = lambda theta: est.forward_diff(dz, theta, l)"
   ]
  },
  {
   "cell_type": "code",
   "execution_count": 23,
   "metadata": {},
   "outputs": [],
   "source": [
    "# We want to start from different start values\n",
    "startvals = [-5.0, -3.0, -1.0, 0.0, 1.0, 3.0, 5.0]\n",
    "n_vals = len(startvals)  # This is to help us to know how many start values to loop over\n",
    "numeval = 100  # Max number of iterations\n",
    "\n",
    "# The following empty lists are to store the values achieved from the different starting points.\n",
    "xopts = np.zeros(n_vals)  # Store optimal x we reached\n",
    "numevals = np.zeros(n_vals)  # Store how many iterations it took\n",
    "fvals = np.zeros(n_vals)  # Store the function value we reached\n",
    "gradients = np.zeros(n_vals)  # Store the gradient value we reached\n",
    "hess = np.zeros(n_vals)  # Store the hessian value we reached"
   ]
  },
  {
   "cell_type": "code",
   "execution_count": 24,
   "metadata": {},
   "outputs": [],
   "source": [
    "## Fill in\n",
    "# Make a similar loop like we did for y(theta).\n",
    "# Now, you should have an outer loop, that loops over the different starting values."
   ]
  },
  {
   "cell_type": "code",
   "execution_count": 25,
   "metadata": {},
   "outputs": [],
   "source": [
    "for i in range(n_vals):\n",
    "    x0 = startvals[i]\n",
    "    for n in range(numeval):\n",
    "        grad0 = dz(x0)\n",
    "        hess0 = ddz(x0)\n",
    "        x_new = x0 - grad0/hess0\n",
    "        grad_new = dz(x0)\n",
    "        hess_new = ddz(x0)\n",
    "        if abs(grad_new) <= tol0:\n",
    "           break\n",
    "        x0 = x_new\n",
    "    xopts[i] = x0\n",
    "    fvals[i] = z(x0)\n",
    "    gradients[i] = grad_new\n",
    "    hess[i] = hess_new\n",
    "    numevals[i] = n + 1  # Add one, since first iteration is 0."
   ]
  },
  {
   "cell_type": "code",
   "execution_count": 28,
   "metadata": {},
   "outputs": [
    {
     "output_type": "stream",
     "name": "stdout",
     "text": [
      "  Start val       x    f(x)    gradient    hessian    iterations\n-----------  ------  ------  ----------  ---------  ------------\n     -5.000  -1.393   0.930      -0.000     -4.605         7.000\n     -3.000  -1.393   0.930      -0.000     -4.607         7.000\n     -1.000  -1.393   0.930      -0.000     -4.607         8.000\n      0.000   0.273  -1.144       0.000      4.311         8.000\n      1.000   0.273  -1.144       0.000      4.344         6.000\n      3.000  -1.393   0.930      -0.000     -4.604         9.000\n      5.000   4.276  42.799       0.000    -42.324       100.000\n"
     ]
    }
   ],
   "source": [
    "# This prints out a nice table for you.\n",
    "table = []\n",
    "for i in range(n_vals):\n",
    "    row = [startvals[i], xopts[i], fvals[i], gradients[i], hess[i], numevals[i]]\n",
    "    table.append(row)\n",
    "print(tabulate(\n",
    "    table, \n",
    "    headers=['Start val', 'x', 'f(x)', 'gradient', 'hessian', 'iterations'],\n",
    "    floatfmt='.3f'\n",
    "    ))"
   ]
  },
  {
   "source": [
    "You should get something like this:\n",
    "\n",
    "|   Start val |      x |   f(x) |   gradient |   hessian |   iterations |\n",
    "|-------------|--------|--------|------------|-----------|--------------|\n",
    "|      -5.000 | -1.393 |  0.930 |     -0.000 |    -4.605 |        7.000 |\n",
    "|      -3.000 | -1.393 |  0.930 |     -0.000 |    -4.607 |        7.000 |\n",
    "|      -1.000 | -1.393 |  0.930 |     -0.000 |    -4.607 |        8.000 |\n",
    "|       0.000 |  0.273 | -1.144 |      0.000 |     4.311 |        8.000 |\n",
    "|       1.000 |  0.273 | -1.144 |      0.000 |     4.344 |        6.000 |\n",
    "|       3.000 | -1.393 |  0.930 |     -0.000 |    -4.604 |        9.000 |\n",
    "|       5.000 |  4.276 | 42.799 |      0.000 |   -42.324 |      100.000 |"
   ],
   "cell_type": "markdown",
   "metadata": {}
  },
  {
   "source": [
    "## Question 3.b\n",
    "\n",
    "Make a plot of $z(\\theta)$ around the analytical maximum. What is the\n",
    "problem?\n",
    "\n",
    "*Programming hints:*\n",
    "Use the built-in function `np.linspace` to make a grid around\n",
    "the maximum, evaluate $z(\\theta)$ on this grid and plot it. Even if $\\theta$ is a vector, you should not need to loop over the lambda function $z(\\theta)$ that you made, just pass the linspace vector through it.\n",
    "\n",
    "The function quickly takes some extremely large values. We have therefore made some code that \"zooms\" in on the are that we are interested in.\n",
    "\n",
    "*Note:* when encountering convergence problems, plotting the\n",
    "objective function may be helpful. Therefore, $\\texttt{linspace}$ is\n",
    "a useful function to know."
   ],
   "cell_type": "markdown",
   "metadata": {}
  },
  {
   "cell_type": "code",
   "execution_count": null,
   "metadata": {},
   "outputs": [],
   "source": [
    "# Calculate on a linespace of x\n",
    "x_axis =  # Fill in using np.linspace\n",
    "y_axis =  # Pass the x_axis through the z() function\n",
    "\n",
    "# Plot the function\n",
    "ax = plt.subplot(111)\n",
    "ax.set_xlim(-10, 10)\n",
    "ax.set_ylim(-20, 50)\n",
    "ax.plot(x_axis, y_axis) ;"
   ]
  },
  {
   "cell_type": "code",
   "execution_count": 26,
   "metadata": {},
   "outputs": [
    {
     "output_type": "display_data",
     "data": {
      "text/plain": "<Figure size 432x288 with 1 Axes>",
      "image/svg+xml": "<?xml version=\"1.0\" encoding=\"utf-8\" standalone=\"no\"?>\n<!DOCTYPE svg PUBLIC \"-//W3C//DTD SVG 1.1//EN\"\n  \"http://www.w3.org/Graphics/SVG/1.1/DTD/svg11.dtd\">\n<!-- Created with matplotlib (https://matplotlib.org/) -->\n<svg height=\"252.317344pt\" version=\"1.1\" viewBox=\"0 0 388.4375 252.317344\" width=\"388.4375pt\" xmlns=\"http://www.w3.org/2000/svg\" xmlns:xlink=\"http://www.w3.org/1999/xlink\">\n <defs>\n  <style type=\"text/css\">\n*{stroke-linecap:butt;stroke-linejoin:round;}\n  </style>\n </defs>\n <g id=\"figure_1\">\n  <g id=\"patch_1\">\n   <path d=\"M 0 252.317344 \nL 388.4375 252.317344 \nL 388.4375 0 \nL 0 0 \nz\n\" style=\"fill:none;\"/>\n  </g>\n  <g id=\"axes_1\">\n   <g id=\"patch_2\">\n    <path d=\"M 35.304688 228.439219 \nL 370.104688 228.439219 \nL 370.104688 10.999219 \nL 35.304688 10.999219 \nz\n\" style=\"fill:#ffffff;\"/>\n   </g>\n   <g id=\"matplotlib.axis_1\">\n    <g id=\"xtick_1\">\n     <g id=\"line2d_1\">\n      <defs>\n       <path d=\"M 0 0 \nL 0 3.5 \n\" id=\"mb56876fe8c\" style=\"stroke:#000000;stroke-width:0.8;\"/>\n      </defs>\n      <g>\n       <use style=\"stroke:#000000;stroke-width:0.8;\" x=\"35.304687\" xlink:href=\"#mb56876fe8c\" y=\"228.439219\"/>\n      </g>\n     </g>\n     <g id=\"text_1\">\n      <!-- −10.0 -->\n      <defs>\n       <path d=\"M 10.59375 35.5 \nL 73.1875 35.5 \nL 73.1875 27.203125 \nL 10.59375 27.203125 \nz\n\" id=\"DejaVuSans-8722\"/>\n       <path d=\"M 12.40625 8.296875 \nL 28.515625 8.296875 \nL 28.515625 63.921875 \nL 10.984375 60.40625 \nL 10.984375 69.390625 \nL 28.421875 72.90625 \nL 38.28125 72.90625 \nL 38.28125 8.296875 \nL 54.390625 8.296875 \nL 54.390625 0 \nL 12.40625 0 \nz\n\" id=\"DejaVuSans-49\"/>\n       <path d=\"M 31.78125 66.40625 \nQ 24.171875 66.40625 20.328125 58.90625 \nQ 16.5 51.421875 16.5 36.375 \nQ 16.5 21.390625 20.328125 13.890625 \nQ 24.171875 6.390625 31.78125 6.390625 \nQ 39.453125 6.390625 43.28125 13.890625 \nQ 47.125 21.390625 47.125 36.375 \nQ 47.125 51.421875 43.28125 58.90625 \nQ 39.453125 66.40625 31.78125 66.40625 \nz\nM 31.78125 74.21875 \nQ 44.046875 74.21875 50.515625 64.515625 \nQ 56.984375 54.828125 56.984375 36.375 \nQ 56.984375 17.96875 50.515625 8.265625 \nQ 44.046875 -1.421875 31.78125 -1.421875 \nQ 19.53125 -1.421875 13.0625 8.265625 \nQ 6.59375 17.96875 6.59375 36.375 \nQ 6.59375 54.828125 13.0625 64.515625 \nQ 19.53125 74.21875 31.78125 74.21875 \nz\n\" id=\"DejaVuSans-48\"/>\n       <path d=\"M 10.6875 12.40625 \nL 21 12.40625 \nL 21 0 \nL 10.6875 0 \nz\n\" id=\"DejaVuSans-46\"/>\n      </defs>\n      <g transform=\"translate(19.982031 243.037656)scale(0.1 -0.1)\">\n       <use xlink:href=\"#DejaVuSans-8722\"/>\n       <use x=\"83.789062\" xlink:href=\"#DejaVuSans-49\"/>\n       <use x=\"147.412109\" xlink:href=\"#DejaVuSans-48\"/>\n       <use x=\"211.035156\" xlink:href=\"#DejaVuSans-46\"/>\n       <use x=\"242.822266\" xlink:href=\"#DejaVuSans-48\"/>\n      </g>\n     </g>\n    </g>\n    <g id=\"xtick_2\">\n     <g id=\"line2d_2\">\n      <g>\n       <use style=\"stroke:#000000;stroke-width:0.8;\" x=\"77.154687\" xlink:href=\"#mb56876fe8c\" y=\"228.439219\"/>\n      </g>\n     </g>\n     <g id=\"text_2\">\n      <!-- −7.5 -->\n      <defs>\n       <path d=\"M 8.203125 72.90625 \nL 55.078125 72.90625 \nL 55.078125 68.703125 \nL 28.609375 0 \nL 18.3125 0 \nL 43.21875 64.59375 \nL 8.203125 64.59375 \nz\n\" id=\"DejaVuSans-55\"/>\n       <path d=\"M 10.796875 72.90625 \nL 49.515625 72.90625 \nL 49.515625 64.59375 \nL 19.828125 64.59375 \nL 19.828125 46.734375 \nQ 21.96875 47.46875 24.109375 47.828125 \nQ 26.265625 48.1875 28.421875 48.1875 \nQ 40.625 48.1875 47.75 41.5 \nQ 54.890625 34.8125 54.890625 23.390625 \nQ 54.890625 11.625 47.5625 5.09375 \nQ 40.234375 -1.421875 26.90625 -1.421875 \nQ 22.3125 -1.421875 17.546875 -0.640625 \nQ 12.796875 0.140625 7.71875 1.703125 \nL 7.71875 11.625 \nQ 12.109375 9.234375 16.796875 8.0625 \nQ 21.484375 6.890625 26.703125 6.890625 \nQ 35.15625 6.890625 40.078125 11.328125 \nQ 45.015625 15.765625 45.015625 23.390625 \nQ 45.015625 31 40.078125 35.4375 \nQ 35.15625 39.890625 26.703125 39.890625 \nQ 22.75 39.890625 18.8125 39.015625 \nQ 14.890625 38.140625 10.796875 36.28125 \nz\n\" id=\"DejaVuSans-53\"/>\n      </defs>\n      <g transform=\"translate(65.013281 243.037656)scale(0.1 -0.1)\">\n       <use xlink:href=\"#DejaVuSans-8722\"/>\n       <use x=\"83.789062\" xlink:href=\"#DejaVuSans-55\"/>\n       <use x=\"147.412109\" xlink:href=\"#DejaVuSans-46\"/>\n       <use x=\"179.199219\" xlink:href=\"#DejaVuSans-53\"/>\n      </g>\n     </g>\n    </g>\n    <g id=\"xtick_3\">\n     <g id=\"line2d_3\">\n      <g>\n       <use style=\"stroke:#000000;stroke-width:0.8;\" x=\"119.004687\" xlink:href=\"#mb56876fe8c\" y=\"228.439219\"/>\n      </g>\n     </g>\n     <g id=\"text_3\">\n      <!-- −5.0 -->\n      <g transform=\"translate(106.863281 243.037656)scale(0.1 -0.1)\">\n       <use xlink:href=\"#DejaVuSans-8722\"/>\n       <use x=\"83.789062\" xlink:href=\"#DejaVuSans-53\"/>\n       <use x=\"147.412109\" xlink:href=\"#DejaVuSans-46\"/>\n       <use x=\"179.199219\" xlink:href=\"#DejaVuSans-48\"/>\n      </g>\n     </g>\n    </g>\n    <g id=\"xtick_4\">\n     <g id=\"line2d_4\">\n      <g>\n       <use style=\"stroke:#000000;stroke-width:0.8;\" x=\"160.854688\" xlink:href=\"#mb56876fe8c\" y=\"228.439219\"/>\n      </g>\n     </g>\n     <g id=\"text_4\">\n      <!-- −2.5 -->\n      <defs>\n       <path d=\"M 19.1875 8.296875 \nL 53.609375 8.296875 \nL 53.609375 0 \nL 7.328125 0 \nL 7.328125 8.296875 \nQ 12.9375 14.109375 22.625 23.890625 \nQ 32.328125 33.6875 34.8125 36.53125 \nQ 39.546875 41.84375 41.421875 45.53125 \nQ 43.3125 49.21875 43.3125 52.78125 \nQ 43.3125 58.59375 39.234375 62.25 \nQ 35.15625 65.921875 28.609375 65.921875 \nQ 23.96875 65.921875 18.8125 64.3125 \nQ 13.671875 62.703125 7.8125 59.421875 \nL 7.8125 69.390625 \nQ 13.765625 71.78125 18.9375 73 \nQ 24.125 74.21875 28.421875 74.21875 \nQ 39.75 74.21875 46.484375 68.546875 \nQ 53.21875 62.890625 53.21875 53.421875 \nQ 53.21875 48.921875 51.53125 44.890625 \nQ 49.859375 40.875 45.40625 35.40625 \nQ 44.1875 33.984375 37.640625 27.21875 \nQ 31.109375 20.453125 19.1875 8.296875 \nz\n\" id=\"DejaVuSans-50\"/>\n      </defs>\n      <g transform=\"translate(148.713281 243.037656)scale(0.1 -0.1)\">\n       <use xlink:href=\"#DejaVuSans-8722\"/>\n       <use x=\"83.789062\" xlink:href=\"#DejaVuSans-50\"/>\n       <use x=\"147.412109\" xlink:href=\"#DejaVuSans-46\"/>\n       <use x=\"179.199219\" xlink:href=\"#DejaVuSans-53\"/>\n      </g>\n     </g>\n    </g>\n    <g id=\"xtick_5\">\n     <g id=\"line2d_5\">\n      <g>\n       <use style=\"stroke:#000000;stroke-width:0.8;\" x=\"202.704688\" xlink:href=\"#mb56876fe8c\" y=\"228.439219\"/>\n      </g>\n     </g>\n     <g id=\"text_5\">\n      <!-- 0.0 -->\n      <g transform=\"translate(194.753125 243.037656)scale(0.1 -0.1)\">\n       <use xlink:href=\"#DejaVuSans-48\"/>\n       <use x=\"63.623047\" xlink:href=\"#DejaVuSans-46\"/>\n       <use x=\"95.410156\" xlink:href=\"#DejaVuSans-48\"/>\n      </g>\n     </g>\n    </g>\n    <g id=\"xtick_6\">\n     <g id=\"line2d_6\">\n      <g>\n       <use style=\"stroke:#000000;stroke-width:0.8;\" x=\"244.554688\" xlink:href=\"#mb56876fe8c\" y=\"228.439219\"/>\n      </g>\n     </g>\n     <g id=\"text_6\">\n      <!-- 2.5 -->\n      <g transform=\"translate(236.603125 243.037656)scale(0.1 -0.1)\">\n       <use xlink:href=\"#DejaVuSans-50\"/>\n       <use x=\"63.623047\" xlink:href=\"#DejaVuSans-46\"/>\n       <use x=\"95.410156\" xlink:href=\"#DejaVuSans-53\"/>\n      </g>\n     </g>\n    </g>\n    <g id=\"xtick_7\">\n     <g id=\"line2d_7\">\n      <g>\n       <use style=\"stroke:#000000;stroke-width:0.8;\" x=\"286.404688\" xlink:href=\"#mb56876fe8c\" y=\"228.439219\"/>\n      </g>\n     </g>\n     <g id=\"text_7\">\n      <!-- 5.0 -->\n      <g transform=\"translate(278.453125 243.037656)scale(0.1 -0.1)\">\n       <use xlink:href=\"#DejaVuSans-53\"/>\n       <use x=\"63.623047\" xlink:href=\"#DejaVuSans-46\"/>\n       <use x=\"95.410156\" xlink:href=\"#DejaVuSans-48\"/>\n      </g>\n     </g>\n    </g>\n    <g id=\"xtick_8\">\n     <g id=\"line2d_8\">\n      <g>\n       <use style=\"stroke:#000000;stroke-width:0.8;\" x=\"328.254688\" xlink:href=\"#mb56876fe8c\" y=\"228.439219\"/>\n      </g>\n     </g>\n     <g id=\"text_8\">\n      <!-- 7.5 -->\n      <g transform=\"translate(320.303125 243.037656)scale(0.1 -0.1)\">\n       <use xlink:href=\"#DejaVuSans-55\"/>\n       <use x=\"63.623047\" xlink:href=\"#DejaVuSans-46\"/>\n       <use x=\"95.410156\" xlink:href=\"#DejaVuSans-53\"/>\n      </g>\n     </g>\n    </g>\n    <g id=\"xtick_9\">\n     <g id=\"line2d_9\">\n      <g>\n       <use style=\"stroke:#000000;stroke-width:0.8;\" x=\"370.104688\" xlink:href=\"#mb56876fe8c\" y=\"228.439219\"/>\n      </g>\n     </g>\n     <g id=\"text_9\">\n      <!-- 10.0 -->\n      <g transform=\"translate(358.971875 243.037656)scale(0.1 -0.1)\">\n       <use xlink:href=\"#DejaVuSans-49\"/>\n       <use x=\"63.623047\" xlink:href=\"#DejaVuSans-48\"/>\n       <use x=\"127.246094\" xlink:href=\"#DejaVuSans-46\"/>\n       <use x=\"159.033203\" xlink:href=\"#DejaVuSans-48\"/>\n      </g>\n     </g>\n    </g>\n   </g>\n   <g id=\"matplotlib.axis_2\">\n    <g id=\"ytick_1\">\n     <g id=\"line2d_10\">\n      <defs>\n       <path d=\"M 0 0 \nL -3.5 0 \n\" id=\"m874dfc5d89\" style=\"stroke:#000000;stroke-width:0.8;\"/>\n      </defs>\n      <g>\n       <use style=\"stroke:#000000;stroke-width:0.8;\" x=\"35.304688\" xlink:href=\"#m874dfc5d89\" y=\"228.439219\"/>\n      </g>\n     </g>\n     <g id=\"text_10\">\n      <!-- −20 -->\n      <g transform=\"translate(7.2 232.238437)scale(0.1 -0.1)\">\n       <use xlink:href=\"#DejaVuSans-8722\"/>\n       <use x=\"83.789062\" xlink:href=\"#DejaVuSans-50\"/>\n       <use x=\"147.412109\" xlink:href=\"#DejaVuSans-48\"/>\n      </g>\n     </g>\n    </g>\n    <g id=\"ytick_2\">\n     <g id=\"line2d_11\">\n      <g>\n       <use style=\"stroke:#000000;stroke-width:0.8;\" x=\"35.304688\" xlink:href=\"#m874dfc5d89\" y=\"197.376362\"/>\n      </g>\n     </g>\n     <g id=\"text_11\">\n      <!-- −10 -->\n      <g transform=\"translate(7.2 201.17558)scale(0.1 -0.1)\">\n       <use xlink:href=\"#DejaVuSans-8722\"/>\n       <use x=\"83.789062\" xlink:href=\"#DejaVuSans-49\"/>\n       <use x=\"147.412109\" xlink:href=\"#DejaVuSans-48\"/>\n      </g>\n     </g>\n    </g>\n    <g id=\"ytick_3\">\n     <g id=\"line2d_12\">\n      <g>\n       <use style=\"stroke:#000000;stroke-width:0.8;\" x=\"35.304688\" xlink:href=\"#m874dfc5d89\" y=\"166.313504\"/>\n      </g>\n     </g>\n     <g id=\"text_12\">\n      <!-- 0 -->\n      <g transform=\"translate(21.942188 170.112723)scale(0.1 -0.1)\">\n       <use xlink:href=\"#DejaVuSans-48\"/>\n      </g>\n     </g>\n    </g>\n    <g id=\"ytick_4\">\n     <g id=\"line2d_13\">\n      <g>\n       <use style=\"stroke:#000000;stroke-width:0.8;\" x=\"35.304688\" xlink:href=\"#m874dfc5d89\" y=\"135.250647\"/>\n      </g>\n     </g>\n     <g id=\"text_13\">\n      <!-- 10 -->\n      <g transform=\"translate(15.579688 139.049866)scale(0.1 -0.1)\">\n       <use xlink:href=\"#DejaVuSans-49\"/>\n       <use x=\"63.623047\" xlink:href=\"#DejaVuSans-48\"/>\n      </g>\n     </g>\n    </g>\n    <g id=\"ytick_5\">\n     <g id=\"line2d_14\">\n      <g>\n       <use style=\"stroke:#000000;stroke-width:0.8;\" x=\"35.304688\" xlink:href=\"#m874dfc5d89\" y=\"104.18779\"/>\n      </g>\n     </g>\n     <g id=\"text_14\">\n      <!-- 20 -->\n      <g transform=\"translate(15.579688 107.987009)scale(0.1 -0.1)\">\n       <use xlink:href=\"#DejaVuSans-50\"/>\n       <use x=\"63.623047\" xlink:href=\"#DejaVuSans-48\"/>\n      </g>\n     </g>\n    </g>\n    <g id=\"ytick_6\">\n     <g id=\"line2d_15\">\n      <g>\n       <use style=\"stroke:#000000;stroke-width:0.8;\" x=\"35.304688\" xlink:href=\"#m874dfc5d89\" y=\"73.124933\"/>\n      </g>\n     </g>\n     <g id=\"text_15\">\n      <!-- 30 -->\n      <defs>\n       <path d=\"M 40.578125 39.3125 \nQ 47.65625 37.796875 51.625 33 \nQ 55.609375 28.21875 55.609375 21.1875 \nQ 55.609375 10.40625 48.1875 4.484375 \nQ 40.765625 -1.421875 27.09375 -1.421875 \nQ 22.515625 -1.421875 17.65625 -0.515625 \nQ 12.796875 0.390625 7.625 2.203125 \nL 7.625 11.71875 \nQ 11.71875 9.328125 16.59375 8.109375 \nQ 21.484375 6.890625 26.8125 6.890625 \nQ 36.078125 6.890625 40.9375 10.546875 \nQ 45.796875 14.203125 45.796875 21.1875 \nQ 45.796875 27.640625 41.28125 31.265625 \nQ 36.765625 34.90625 28.71875 34.90625 \nL 20.21875 34.90625 \nL 20.21875 43.015625 \nL 29.109375 43.015625 \nQ 36.375 43.015625 40.234375 45.921875 \nQ 44.09375 48.828125 44.09375 54.296875 \nQ 44.09375 59.90625 40.109375 62.90625 \nQ 36.140625 65.921875 28.71875 65.921875 \nQ 24.65625 65.921875 20.015625 65.03125 \nQ 15.375 64.15625 9.8125 62.3125 \nL 9.8125 71.09375 \nQ 15.4375 72.65625 20.34375 73.4375 \nQ 25.25 74.21875 29.59375 74.21875 \nQ 40.828125 74.21875 47.359375 69.109375 \nQ 53.90625 64.015625 53.90625 55.328125 \nQ 53.90625 49.265625 50.4375 45.09375 \nQ 46.96875 40.921875 40.578125 39.3125 \nz\n\" id=\"DejaVuSans-51\"/>\n      </defs>\n      <g transform=\"translate(15.579688 76.924152)scale(0.1 -0.1)\">\n       <use xlink:href=\"#DejaVuSans-51\"/>\n       <use x=\"63.623047\" xlink:href=\"#DejaVuSans-48\"/>\n      </g>\n     </g>\n    </g>\n    <g id=\"ytick_7\">\n     <g id=\"line2d_16\">\n      <g>\n       <use style=\"stroke:#000000;stroke-width:0.8;\" x=\"35.304688\" xlink:href=\"#m874dfc5d89\" y=\"42.062076\"/>\n      </g>\n     </g>\n     <g id=\"text_16\">\n      <!-- 40 -->\n      <defs>\n       <path d=\"M 37.796875 64.3125 \nL 12.890625 25.390625 \nL 37.796875 25.390625 \nz\nM 35.203125 72.90625 \nL 47.609375 72.90625 \nL 47.609375 25.390625 \nL 58.015625 25.390625 \nL 58.015625 17.1875 \nL 47.609375 17.1875 \nL 47.609375 0 \nL 37.796875 0 \nL 37.796875 17.1875 \nL 4.890625 17.1875 \nL 4.890625 26.703125 \nz\n\" id=\"DejaVuSans-52\"/>\n      </defs>\n      <g transform=\"translate(15.579688 45.861295)scale(0.1 -0.1)\">\n       <use xlink:href=\"#DejaVuSans-52\"/>\n       <use x=\"63.623047\" xlink:href=\"#DejaVuSans-48\"/>\n      </g>\n     </g>\n    </g>\n    <g id=\"ytick_8\">\n     <g id=\"line2d_17\">\n      <g>\n       <use style=\"stroke:#000000;stroke-width:0.8;\" x=\"35.304688\" xlink:href=\"#m874dfc5d89\" y=\"10.999219\"/>\n      </g>\n     </g>\n     <g id=\"text_17\">\n      <!-- 50 -->\n      <g transform=\"translate(15.579688 14.798437)scale(0.1 -0.1)\">\n       <use xlink:href=\"#DejaVuSans-53\"/>\n       <use x=\"63.623047\" xlink:href=\"#DejaVuSans-48\"/>\n      </g>\n     </g>\n    </g>\n   </g>\n   <g id=\"line2d_18\">\n    <path clip-path=\"url(#pf1a0d2a1e9)\" d=\"M 137.982809 253.317344 \nL 140.141051 241.769495 \nL 143.522869 226.01355 \nL 146.904687 212.443366 \nL 150.286506 200.906107 \nL 153.668324 191.249125 \nL 157.050142 183.319996 \nL 160.43196 176.966577 \nL 163.813778 172.037064 \nL 167.195597 168.38007 \nL 170.577415 165.84472 \nL 173.959233 164.280762 \nL 177.341051 163.538709 \nL 180.722869 163.470008 \nL 184.104688 163.927254 \nL 187.486506 164.764439 \nL 190.868324 165.837273 \nL 194.250142 167.003564 \nL 197.63196 168.123688 \nL 201.013778 169.061165 \nL 204.395597 169.683362 \nL 207.777415 169.862356 \nL 211.159233 169.475986 \nL 214.541051 168.409143 \nL 217.922869 166.555353 \nL 221.304688 163.818703 \nL 224.686506 160.116213 \nL 228.068324 155.380724 \nL 231.450142 149.564446 \nL 234.83196 142.643292 \nL 238.213778 134.622182 \nL 241.595597 125.541541 \nL 244.977415 115.485245 \nL 248.359233 104.590347 \nL 251.741051 93.058988 \nL 255.122869 81.172962 \nL 258.504688 69.31155 \nL 261.886506 57.973347 \nL 265.268324 47.80297 \nL 268.650142 39.623751 \nL 272.03196 34.477743 \nL 275.413778 33.674692 \nL 278.795597 38.851956 \nL 282.177415 52.04786 \nL 285.559233 75.791453 \nL 288.941051 113.212371 \nL 292.322869 168.175292 \nL 295.704688 245.444491 \nL 295.957195 253.317344 \n\" style=\"fill:none;stroke:#1f77b4;stroke-linecap:square;stroke-width:1.5;\"/>\n   </g>\n   <g id=\"patch_3\">\n    <path d=\"M 35.304688 228.439219 \nL 35.304688 10.999219 \n\" style=\"fill:none;stroke:#000000;stroke-linecap:square;stroke-linejoin:miter;stroke-width:0.8;\"/>\n   </g>\n   <g id=\"patch_4\">\n    <path d=\"M 370.104688 228.439219 \nL 370.104688 10.999219 \n\" style=\"fill:none;stroke:#000000;stroke-linecap:square;stroke-linejoin:miter;stroke-width:0.8;\"/>\n   </g>\n   <g id=\"patch_5\">\n    <path d=\"M 35.304687 228.439219 \nL 370.104688 228.439219 \n\" style=\"fill:none;stroke:#000000;stroke-linecap:square;stroke-linejoin:miter;stroke-width:0.8;\"/>\n   </g>\n   <g id=\"patch_6\">\n    <path d=\"M 35.304687 10.999219 \nL 370.104688 10.999219 \n\" style=\"fill:none;stroke:#000000;stroke-linecap:square;stroke-linejoin:miter;stroke-width:0.8;\"/>\n   </g>\n  </g>\n </g>\n <defs>\n  <clipPath id=\"pf1a0d2a1e9\">\n   <rect height=\"217.44\" width=\"334.8\" x=\"35.304688\" y=\"10.999219\"/>\n  </clipPath>\n </defs>\n</svg>\n",
      "image/png": "[encoded data removed]"
     },
     "metadata": {
      "needs_background": "light"
     }
    }
   ],
   "source": [
    "# Calculate on a linespace of x\n",
    "x_axis = np.linspace(-10, 10, 100)\n",
    "y_axis = z(x_axis)\n",
    "\n",
    "# Plot the function\n",
    "ax = plt.subplot(111)\n",
    "ax.set_xlim(-10, 10)\n",
    "ax.set_ylim(-20, 50)\n",
    "ax.plot(x_axis, y_axis) ;"
   ]
  }
 ]
}