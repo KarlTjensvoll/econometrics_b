{
 "cells": [
  {
   "cell_type": "code",
   "execution_count": 41,
   "metadata": {},
   "outputs": [
    {
     "name": "stdout",
     "output_type": "stream",
     "text": [
      "The autoreload extension is already loaded. To reload it, use:\n",
      "  %reload_ext autoreload\n"
     ]
    }
   ],
   "source": [
    "import numpy as np\n",
    "from numpy import linalg as la\n",
    "from scipy.stats import chi2\n",
    "from tabulate import tabulate\n",
    "import LinearModelsWeek3 as lm\n",
    "%load_ext autoreload\n",
    "%autoreload 2"
   ]
  },
  {
   "cell_type": "code",
   "execution_count": 42,
   "metadata": {},
   "outputs": [],
   "source": [
    "y, x, n, t, year, label_y, label_x = lm.load_example_data()"
   ]
  },
  {
   "cell_type": "markdown",
   "metadata": {},
   "source": [
    "Basic Linear Unobserved Effects Panel Data (continued)\n",
    "======================================================\n",
    "\n",
    "The purpose of this week's exercises is to familiarize ourselves with\n",
    "the *Random-Effects (RE) model* and *estimator*. Among other conditions,\n",
    "the RE approach relies on the assumption that the unobserved component\n",
    "$c_{i}$ is *mean independent* of $\\mathbf{x}_{i}$, i.e.,\n",
    "$E\\left[c_{i}|\\mathbf{x}_{i}\\right]=E\\left[c_{i}\\right]$. This\n",
    "assumption is similar to the one justifying a pooled-OLS approach.\n",
    "However, as will become clear below, even when both approaches to\n",
    "estimation are justified, the RE estimator has a smaller (asymptotic)\n",
    "variance because it takes into account the panel structure of the data\n",
    "(i.e., the availability of repeated observations concerning the same\n",
    "individuals). The RE estimator is therefore interesting from an\n",
    "efficiency perspective. Towards the end of this exercise, you will be\n",
    "asked to test whether the assumptions of the RE model are reasonable\n",
    "compared to the assumptions underlying the Fixed-Effects (FE) model from\n",
    "last week's exercises. The specific procedure is often referred to as a\n",
    "*Hausman test*."
   ]
  },
  {
   "cell_type": "markdown",
   "metadata": {},
   "source": [
    "The Random-Effects Estimator\n",
    "----------------------------\n",
    "\n",
    "Consider again the linear panel-data model\n",
    "\n",
    "$$y_{it}=\\mathbf{x}_{it}\\mathbf{\\beta}+c_{i}+u_{it},\\label{Model} \\tag{1}$$ \n",
    "\n",
    "where\n",
    "$i=1,\\dotsc,N$ indexes cross sectional unit (e.g., households), and\n",
    "$t=1,\\dotsc,T$ time (e.g., weeks, years). Again $\\mathbf{x}_{it}$ is a\n",
    "$1\\times K$ vector of observed variables, $\\mathbf{\\beta}$ are the $K$\n",
    "parameters of interest, $c_{i}$ is an unobserved component that is\n",
    "specific to individual $i$, and $u_{it}$ is an unobserved random error\n",
    "term. Rewrite (1) to get a model in terms of the composite error\n",
    "terms, $v_{it}:=c_{i}+u_{it}$\n",
    "\n",
    "$$y_{it}=\\mathbf{x}_{it}\\mathbf{\\beta}+v_{it}\\label{Model Err} \\tag{2}$$ \n",
    "\n",
    "For the RE model we assume \n",
    "\n",
    "$$\\begin{aligned}\n",
    "RE.1\\left(a\\right) & :  E[u_{it}|\\mathbf{x}_{i1},..,\\mathbf{x}_{iT},c_{i}]=0 \\quad t=1,..,T\\\\\n",
    "RE.1\\left(b\\right) & :  E[c_{i}|\\mathbf{x}_{i1},..,\\mathbf{x}_{iT}]=E[c_{i}]=0\\\\\n",
    "RE.2 & :  \\text{Rank }E[\\mathbf{X}_{i}'\\boldsymbol{\\mathbf{\\Omega}}^{-1}\\mathbf{X}_{i}]=K\\\\\n",
    "RE.3\\left(a\\right) & :  E[\\mathbf{u}_{i}\\mathbf{u}_{i}^{\\prime}|\\mathbf{x}_{i},c_{i}]=\\sigma_{u}^{2}\\mathbf{I}_{T}\\\\\n",
    "RE.3\\left(b\\right) & :  E[c_{i}^{2}|\\mathbf{x}_{i}]=\\sigma_{c}^{2},\\end{aligned}$$\n",
    "\n",
    "where $\\mathbf{X}_{i}$ is the $T\\times K$ matrix arising from stacking\n",
    "$\\mathbf{x}_{it}$ over $t=1,\\dotsc,T$, $\\boldsymbol{\\Omega}$ is the\n",
    "$T\\times T$ variance-covariance matrix of the composite error vector\n",
    "$\\mathbf{v}_{i}=c_{i}\\mathbf{j}_{T}+\\mathbf{u}_{i}$ (elaborated on\n",
    "below), and $\\mathbf{j}_{T}$ is a $T\\times1$ vector of ones. Note that\n",
    "$\\boldsymbol{\\Omega}$ does not depend on $i$."
   ]
  },
  {
   "cell_type": "markdown",
   "metadata": {},
   "source": [
    "Under the assumptions $RE.1(a)$ and $RE.1(b)$, the explanatory variables\n",
    "included in $\\mathbf{X}_{i}$ are strictly exogenous. If, in addition,\n",
    "the rank condition $\\text{Rank }E[\\mathbf{X}_{i}'\\mathbf{X}_{i}]=K$\n",
    "holds, then the parameters of $2$ may be\n",
    "estimated consistently by pooled OLS. However, under\n",
    "$RE.3\\left(a\\right)$ and $RE.3\\left(b\\right),$ the covariance matrix for\n",
    "individual $i$ is given by the $T\\times T$ matrix \n",
    "\n",
    "$$\\begin{aligned}\n",
    "\\mathbf{\\Omega} & = E\\left[\\mathbf{v}_{i}\\mathbf{v}_{i}^{\\prime}\\right]=\\left[\\begin{array}{cccc}\n",
    "\\sigma_{c}^{2}+\\sigma_{u}^{2} & \\sigma_{c}^{2} & \\cdots & \\sigma_{c}^{2}\\\\\n",
    "\\sigma_{c}^{2} & \\sigma_{c}^{2}+\\sigma_{u}^{2} &  & \\vdots\\\\\n",
    "\\vdots &  & \\ddots & \\sigma_{c}^{2}\\\\\n",
    "\\sigma_{c}^{2} & \\cdots & \\sigma_{c}^{2} & \\sigma_{c}^{2}+\\sigma_{u}^{2}\n",
    "\\end{array}\\right]\\nonumber \\\\\n",
    " & = \\sigma_{c}^{2}\\mathbf{j}_{T}\\mathbf{j}_{T}^{\\prime}+\\sigma_{u}^{2}\\mathbf{I}_{T}.  \\label{CovMatrix}\\end{aligned} \\tag{3} $$\n",
    "\n",
    "If no individual effect existed, we would have $v_{it}=u_{it}$, and the\n",
    "covariance matrix $\\mathbf{\\Omega}$ would be propertional to the identity\n",
    "matrix. Because the pooled OLS estimator does not take into account the\n",
    "structure (3) in variance/covariance, the pooled OLS estimator\n",
    "is generally inefficient (asymptotically). An efficient alternative is\n",
    "*Generalized Least Squares (GLS)* \\[see Wooldridge (2010, Section 7) for details, which we won't cover in detail \\]. Assuming that estimates of $\\sigma_{c}^{2}$ and\n",
    "$\\sigma_{u}^{2}$ are available, the covariance matrix can be estimated\n",
    "by\n",
    "$\\hat{\\mathbf{\\Omega}}=\\hat{\\sigma}_{c}^{2}\\mathbf{j}_{T}\\mathbf{j}_{T}^{\\prime}+\\hat{\\sigma}_{u}^{2}\\mathbf{I}_{T}$.\n",
    "The (feasible) *GLS estimator* is then\n",
    "\n",
    "$$\\hat{\\mathbf{\\beta}}_{RE}=\\Big(\\sum_{i=1}^{N}\\mathbf{X}_{i}'\\hat{\\mathbf{\\Omega}}^{-1}\\mathbf{X}_{i}\\Big)^{-1}\\sum_{i=1}^{N}\\mathbf{X}_{i}'\\hat{\\mathbf{\\Omega}}^{-1}\\mathbf{y}_{i}.\\label{GLS} \\tag{4}$$\n",
    "\n",
    "Again, when there is no individual-specific time-constant unobservable\n",
    "$(c_{i}\\equiv0)$, the conditional mean of its square $(\\sigma_{c}^{2})$\n",
    "is zero. In this case, $\\mathbf{\\Omega}$ reduces to\n",
    "$\\sigma_{u}^{2}\\mathbf{I}_{T}$, and the estimator in\n",
    "(4) is numerically identical to the pooled OLS estimator. (You should check this.)"
   ]
  },
  {
   "cell_type": "markdown",
   "metadata": {},
   "source": [
    "The RE estimator can be obtained by transforming the data in a\n",
    "particular way and then compute the OLS estimates. Specifically,\n",
    "$\\mathbf{X}_{i}$ and $\\mathbf{y}_{i}$ can be transformed by\n",
    "premultiplying with an appropriate matrix, so that \n",
    "\n",
    "$$\\begin{aligned}\n",
    "\\check{\\mathbf{X}}_{i}:=\\mathbf{C}_{T}\\mathbf{X}_{i}, & \\quad\\check{\\mathbf{y}}_{i}:=\\mathbf{C}_{T}\\mathbf{y}_{i},\\\\\n",
    "\\mathrm{where}\\quad\\mathbf{C}_{T}:=\\mathbf{I}_{T}-\\lambda\\mathbf{P}_{T},\\quad\\mathbf{P}_{T} & :=\\mathbf{I}_{T}-\\mathbf{Q}_{T}=T^{-1}\\mathbf{j}_{T}\\mathbf{j}_{T}',\\\\\n",
    "\\text{and}\\quad\\lambda & :=1-\\sqrt{\\frac{\\sigma_{u}^{2}}{\\sigma_{u}^{2}+T\\sigma_{c}^{2}}}.\\end{aligned}$$\n",
    "\n",
    "(The $\\mathbf{Q}_{T}=\\mathbf{I}_{T}-T^{-1}\\mathbf{j}_{T}\\mathbf{j}_{T}'$\n",
    "matrix is the same as in last week's problem set.) The infeasible RE\n",
    "estimator $\\boldsymbol{\\tilde{\\beta}}_{RE}^{\\mathrm{}}$ (infeasible\n",
    "because it relies on knowledge of $\\boldsymbol{\\Omega}$) may then be\n",
    "calculated as the pooled OLS estimator using the transformed sample,\n",
    "$$\\boldsymbol{\\tilde{\\beta}}_{RE}^{\\mathrm{}}=\\left(\\mathbf{\\check{X}}'\\mathbf{\\check{X}}\\right)^{-1}\\mathbf{\\check{X}}'\\check{\\mathbf{y}},\\label{re} \\tag{5}$$\n",
    "where $\\mathbf{\\check{X}}$ is now the $NT\\times K$ matrix and\n",
    "$\\check{\\mathbf{y}}$ the $NT\\times1$ vector arising from stacking\n",
    "transformed variables stacked over $t$ and then $i$.\n",
    "\n",
    "To make the procedure (5) feasible, we need estimates of $\\sigma_{c}^{2}$ and\n",
    "$\\sigma_{u}^{2},$ such that we can construct\n",
    "$\\hat{\\lambda}=1-\\sqrt{\\widehat{\\sigma}_{u}^{2}/(\\widehat{\\sigma}_{u}^{2}+T\\widehat{\\sigma}_{c}^{2})}$.\n",
    "Within- and between-group residuals can be used to obtain estimates of\n",
    "$\\sigma_{c}^{2}$ and $\\sigma_{u}^{2}$, respectively: \n",
    "\n",
    "$$\\begin{aligned}\n",
    "\\hat{\\sigma}_{u}^{2} & = \\frac{1}{NT-N-K}\\left(\\ddot{\\mathbf{y}}-\\mathbf{\\ddot{X}}\\hat{\\mathbf{\\beta}}_{FE}\\right)^{\\prime}\\left(\\ddot{\\mathbf{\\mathbf{y}}}-\\mathbf{\\ddot{X}}\\hat{\\mathbf{\\beta}}_{FE}\\right)=\\frac{\\widehat{\\ddot{\\mathbf{u}}}^{\\prime}\\widehat{\\ddot{\\mathbf{u}}}}{NT-N-K}\\label{su} & (6) \\\\\n",
    "\\hat{\\sigma}_{w}^{2} & = \\frac{1}{T}\\frac{1}{N-K}\\left(\\bar{\\mathbf{y}}-\\mathbf{\\bar{X}}\\hat{\\mathbf{\\beta}}_{BE}\\right)^{\\prime}\\left(\\bar{\\mathbf{y}}-\\mathbf{\\bar{X}}\\hat{\\mathbf{\\beta}}_{BE}\\right) & (7) \\\\\n",
    "\\hat{\\sigma}_{c}^{2} & = \\hat{\\sigma}_{w}^{2}-\\frac{1}{T}\\hat{\\sigma}_{u}^{2},\\label{sc} & (8) \\end{aligned}$$\n",
    "\n",
    "where $\\mathbf{\\hat{\\mathbf{\\beta}}}_{FE}$ is the FE estimator and\n",
    "$\\ddot{\\mathbf{y}}$ and $\\mathbf{\\ddot{X}}$ are within-transformed\n",
    "counterparts of $\\mathbf{y}$ and $\\mathbf{X}$, respectively. (See last\n",
    "week's problem set.) Correspondingly, $\\bar{\\mathbf{y}}$ and\n",
    "$\\mathbf{\\bar{X}}$ are between-group transformed variables and\n",
    "$\\hat{\\mathbf{\\beta}}_{BE}=\\left(\\mathbf{\\bar{X}}^{\\prime}\\mathbf{\\bar{X}}\\right)^{-1}\\mathbf{\\bar{X}}^{\\prime}\\bar{\\mathbf{y}}$ is\n",
    "the between-groups estimator. The between-groups estimator is not something we have introduced before, but is attained by regressing the time-averaged outcomes $\\overline{y}_i$ on the time-averaged regressors $\\overline{\\mathbf{x}}_i,i=1,2,\\dotsc,N$.\n",
    "\n",
    "An estimate of the variance-covariance matrix for\n",
    "$\\hat{\\mathbf{\\beta}}_{RE}$ may then be obtained as\n",
    "\n",
    "$$\\widehat{\\text{var}}(\\hat{\\mathbf{\\beta}}_{RE})=\\hat{\\sigma}_{\\breve{v}}^{2}\\left(\\mathbf{\\check{X}}^{\\prime}\\mathbf{\\check{X}}\\right)^{-1},\\label{VarRE} \\tag{9}$$\n",
    "where\n",
    "\n",
    "$$\\hat{\\sigma}_{\\breve{v}}^{2}:=\\frac{1}{NT-K}\\sum_{i=1}^{N}\\sum_{t=1}^{T}\\breve{v}_{it}^{2},$$\n",
    "\n",
    "and\n",
    "$\\breve{v}_{it}=\\breve{y}_{it}-\\mathbf{\\breve{x}}_{it}\\boldsymbol{\\hat{\\beta}}_{RE}$\n",
    "are the *quasi-demeaned residuals* obtained from the pooled regression\n",
    "of $\\check{y}_{it}$ on $\\check{\\mathbf{x}}_{it}$ (with $\\lambda$\n",
    "replaced by its estimate $\\widehat{\\lambda}$)."
   ]
  },
  {
   "cell_type": "markdown",
   "metadata": {},
   "source": [
    "The Hausman Test\n",
    "----------------\n",
    "\n",
    "We now turn to the test for whether the assumptions of the RE model are\n",
    "plausible when tested against the assumptions of the FE model. The\n",
    "crucial assumption for consistency of the RE estimator is that\n",
    "$E\\left[c_{i}\\mathbf{x}_{it}\\right]=\\mathbf{0}$ for all $t$, as opposed\n",
    "to the FE estimator which allows\n",
    "$E\\left[c_{i}\\mathbf{x}_{it}\\right]\\neq\\mathbf{0}$.\n",
    "\n",
    "If $E\\left[c_{i}\\mathbf{x}_{it}\\right]=\\mathbf{0}$ is true, then the RE\n",
    "and FE estimators are both consistent. However, the FE estimator is\n",
    "inefficient as it does not exploit the structure of the error variance.\n",
    "On the other hand, if\n",
    "$E\\left[c_{i}\\mathbf{x}_{it}\\right]\\neq\\boldsymbol{0}$ for some $t$,\n",
    "then the FE estimator is consistent, but the RE estimator is not. This\n",
    "can be used to form a $\\chi^{2}$-statistic under the null hypothesis\n",
    "that $E\\left[c_{i}\\mathbf{x}_{it}\\right]=\\mathbf{0}$. The *Hausman test\n",
    "statistic* and its asymptotic distribution are given by\n",
    "\n",
    "$$H:=(\\hat{\\mathbf{\\beta}}_{FE}-\\hat{\\mathbf{\\beta}}_{RE})'[\\widehat{\\mathrm{avar}}(\\hat{\\mathbf{\\beta}}_{FE})-\\widehat{\\mathrm{avar}}(\\hat{\\mathbf{\\beta}}_{RE})]^{-1}(\\hat{\\mathbf{\\beta}}_{FE}-\\hat{\\mathbf{\\beta}}_{RE})\\overset{d}{\\to}\\chi_{M}^{2},\\label{eq:HausmanTestStatistic} \\tag{10} $$\n",
    "\n",
    "where $\\hat{\\mathbf{\\beta}}_{RE}$ is now understood as the $M\\times1$ vector\n",
    "of RE estimates, *excluding the estimates of parameters of\n",
    "time-invariant variables* (For such variables there are no FE estimates available due to the within transformation.). If the null hypothesis is correct then\n",
    "$(\\hat{\\mathbf{\\beta}}_{FE}-\\hat{\\mathbf{\\beta}}_{RE})$ should be close to the\n",
    "zero vector (by consistency). Moreover, the asymptotic efficiency of RE\n",
    "ensures that *the asymptotic variance of their difference is the\n",
    "difference in asymptotic variances*. This observation suggests the test\n",
    "statistic 10 and constitutes Hausman's major\n",
    "insight. (One of many, really.) While the variance estimates in (10) could be arbitrary (subject to\n",
    "consistency), it is best to use the same estimate of $\\sigma_{u}^{2}$ in\n",
    "constructing both matrices---otherwise their difference need not be even\n",
    "positive semi-definite. Even if inversion is allowed, a lack of positive\n",
    "semi-definiteness may result in a negative value for $H$, which fits\n",
    "poorly with its interpretation as a measure of distance \\[and is in\n",
    "direct conflict with the distributional approximation in (10)\\].\n",
    "\n",
    "Note that both models rely on the assumption of strict exogeneity\n",
    "conditional on $c_{i}$, and that the Hausman statistic is only valid\n",
    "under the (conditional homeskedasticity) assumption\n",
    "$E\\left[c_{i}^{2}|\\mathbf{x}_{i}\\right] = \\sigma_{c}^{2}$."
   ]
  },
  {
   "cell_type": "markdown",
   "metadata": {},
   "source": [
    "Exercises\n",
    "=========\n",
    "\n",
    "The exercise takes up the union membership example from last week. Use\n",
    "the data and the program from last week. First, read in the data and\n",
    "construct the $\\mathbf{y}$ and the $\\mathbf{X}$ matrices using the\n",
    "provided script. Then answer the following:"
   ]
  },
  {
   "cell_type": "markdown",
   "metadata": {},
   "source": [
    "### 1. Construct the transformation matrices $Q_T$ and $P_t$"
   ]
  },
  {
   "cell_type": "code",
   "execution_count": 43,
   "metadata": {},
   "outputs": [],
   "source": [
    "def mean_matrix(t):\n",
    "    return np.tile(1/t, (t, t))\n",
    "\n",
    "def demeaning_matrix(t):\n",
    "    return np.eye(t) - mean_matrix(t)"
   ]
  },
  {
   "cell_type": "code",
   "execution_count": 44,
   "metadata": {},
   "outputs": [],
   "source": [
    "Q_T = demeaning_matrix(t)\n",
    "P_T = mean_matrix(t)"
   ]
  },
  {
   "cell_type": "markdown",
   "metadata": {},
   "source": [
    "### 2.Estimate the FE model from last week’s problem set.\n",
    "* Within transform the data using the procedure `perm(Q_T, X)`.\n",
    "* Estimate the FE model using OLS on the transformed data $\\mathbf{\\ddot{y}}$ and $\\mathbf{\\ddot{X}}$.\n",
    "* Store residuals.\n",
    "* Compute $\\hat{\\sigma}^2_u$ according to (6).\n",
    "* Compute the covariance matrix estimate, $\\widehat{Var}(\\hat{\\beta}) = \\hat{\\sigma}^2_u (\\mathbf{\\ddot{X'}}\\mathbf{\\ddot{X}})^{-1}$"
   ]
  },
  {
   "cell_type": "code",
   "execution_count": 45,
   "metadata": {},
   "outputs": [],
   "source": [
    "y_demeaned = lm.perm(Q_T, y)\n",
    "x_demeaned = lm.perm(Q_T, x)\n",
    "\n",
    "x_demeaned = x_demeaned[:, 4:]\n",
    "label_x_demeaned = label_x[4:]"
   ]
  },
  {
   "cell_type": "code",
   "execution_count": 60,
   "metadata": {},
   "outputs": [
    {
     "name": "stdout",
     "output_type": "stream",
     "text": [
      "FE\n",
      "Dependent variable: Log wage\n",
      "\n",
      "                  Beta      Se    t-values\n",
      "--------------  ------  ------  ----------\n",
      "Experience       0.117  0.0084       13.88\n",
      "Experience sqr  -0.004  0.0006       -7.11\n",
      "Married          0.045  0.0183        2.47\n",
      "Union            0.082  0.0193        4.26\n",
      "R² = 0.178\n",
      "σ² = 0.123\n"
     ]
    }
   ],
   "source": [
    "results_fe = lm.estimate(\n",
    "    y_demeaned, x_demeaned, transform='fe', n=n, t=t\n",
    ")\n",
    "lm.print_table(\n",
    "    labels=(label_y, label_x_demeaned), results=results_fe, \n",
    "    title='FE',\n",
    "    floatfmt=['', '.3f', '.4f', '.2f']\n",
    ")"
   ]
  },
  {
   "cell_type": "markdown",
   "metadata": {},
   "source": [
    "You should get a table that looks like this:\n",
    "\n",
    "FE <br>\n",
    "Dependent variable: Log wage\n",
    "\n",
    "|                |   Beta |     Se |   t-values |\n",
    "|----------------|--------|--------|------------|\n",
    "| Experience     |  0.117 | 0.0084 |      13.88 |\n",
    "| Experience sqr | -0.004 | 0.0006 |      -7.11 |\n",
    "| Married        |  0.045 | 0.0183 |       2.47 |\n",
    "| Union          |  0.082 | 0.0193 |       4.26 |\n",
    "R² = 0.178 <br>\n",
    "σ² = 0.123"
   ]
  },
  {
   "cell_type": "markdown",
   "metadata": {},
   "source": [
    "### 3.Estimate the BE model from last week’s problem set.\n",
    "* Between transform the data using the procedure `perm(P_T, X)`.\n",
    "* Estimate the BE model using OLS on the transformed data $\\bar{y}$ and $\\mathbf{\\bar{X}}$.\n",
    "* Store residuals.\n",
    "* Compute $\\hat{\\sigma}^2_c$ according to (8).\n",
    "* Compute the covariance matrix estimate, $\\widehat{Var}(\\hat{\\beta}) = \\hat{\\sigma}^2_u (\\mathbf{\\ddot{X'}}\\mathbf{\\ddot{X}})^{-1}$"
   ]
  },
  {
   "cell_type": "code",
   "execution_count": 47,
   "metadata": {},
   "outputs": [],
   "source": [
    "y_mean = lm.perm(P_T, y)\n",
    "x_mean = lm.perm(P_T, x)"
   ]
  },
  {
   "cell_type": "code",
   "execution_count": 62,
   "metadata": {},
   "outputs": [
    {
     "name": "stdout",
     "output_type": "stream",
     "text": [
      "BE\n",
      "Dependent variable: Log wage\n",
      "\n",
      "                  Beta      Se    t-values\n",
      "--------------  ------  ------  ----------\n",
      "Constant         0.492  0.0776        6.34\n",
      "Black           -0.139  0.0172       -8.09\n",
      "Hispanic         0.005  0.0150        0.32\n",
      "Education        0.095  0.0038       24.70\n",
      "Experience      -0.050  0.0177       -2.85\n",
      "Experience sqr   0.005  0.0011        4.54\n",
      "Married          0.144  0.0145        9.93\n",
      "Union            0.271  0.0164       16.55\n",
      "R² = 0.219\n",
      "σ² = 0.119\n"
     ]
    }
   ],
   "source": [
    "results_be = lm.estimate(\n",
    "    y_mean, x_mean, transform='be')\n",
    "lm.print_table(\n",
    "    labels=(label_y, label_x), results=results_be, \n",
    "    title='BE',\n",
    "    floatfmt=['', '.3f', '.4f', '.2f']\n",
    ")"
   ]
  },
  {
   "cell_type": "markdown",
   "metadata": {},
   "source": [
    "You should get a table that looks like this:\n",
    "\n",
    "BE <br>\n",
    "Dependent variable: Log wage\n",
    "\n",
    "|                |   Beta |     Se |   t-values |\n",
    "|----------------|--------|--------|------------|\n",
    "| Constant       |  0.492 | 0.0776 |       6.34 |\n",
    "| Black          | -0.139 | 0.0172 |      -8.09 |\n",
    "| Hispanic       |  0.005 | 0.0150 |       0.32 |\n",
    "| Education      |  0.095 | 0.0038 |      24.70 |\n",
    "| Experience     | -0.050 | 0.0177 |      -2.85 |\n",
    "| Experience sqr |  0.005 | 0.0011 |       4.54 |\n",
    "| Married        |  0.144 | 0.0145 |       9.93 |\n",
    "| Union          |  0.271 | 0.0164 |      16.55 |\n",
    "R² = 0.219 <br>\n",
    "σ² = 0.119"
   ]
  },
  {
   "cell_type": "code",
   "execution_count": 49,
   "metadata": {},
   "outputs": [],
   "source": [
    "sigma_c = results_be['sigma'] - results_fe['sigma']/t"
   ]
  },
  {
   "cell_type": "markdown",
   "metadata": {},
   "source": [
    "### 4. Calculate the RE estimator (5)\n",
    "* Calculate the scalar estimate $\\hat{\\lambda}$.\n",
    "* Quasi-demean the data using $\\hat{\\lambda}$, i.e. compute $\\mathbf{\\check{y}}_i = \\mathbf{y}_i - \\hat{\\lambda}\\mathbf{\\bar{y}}_i$ and $\\mathbf{\\check{X}}_i = \\mathbf{X}_i - \\hat{\\lambda}\\mathbf{\\bar{X}}_i$\n",
    "* Estimate the RE model using OLS on the transformed data $\\mathbf{\\check{y}}_i$ and $\\mathbf{\\check{X}}_i$, $i = 0, ..., N-1$, $t=0, ...,T-1$\n",
    "* Compute the variance-matrix estimate (9), extract standard errors of the estimates, and compute t-values.\n",
    "* Note: The $\\mathbf{X}$-matrix should contain a constant term as well as all time invariant variables (why?)."
   ]
  },
  {
   "cell_type": "code",
   "execution_count": 50,
   "metadata": {},
   "outputs": [],
   "source": [
    "# Note that lambda is reserved for unnamed functions\n",
    "sigma_u = results_fe['sigma']\n",
    "_lambda = 1 - np.sqrt(sigma_u/(sigma_u + t*sigma_c))"
   ]
  },
  {
   "cell_type": "code",
   "execution_count": 51,
   "metadata": {},
   "outputs": [],
   "source": [
    "C_t = np.eye(t) - _lambda*mean_matrix(t)\n",
    "x_re = lm.perm(C_t, x)\n",
    "y_re = lm.perm(C_t, y)"
   ]
  },
  {
   "cell_type": "code",
   "execution_count": 64,
   "metadata": {},
   "outputs": [
    {
     "name": "stdout",
     "output_type": "stream",
     "text": [
      "RE\n",
      "Dependent variable: Log wage\n",
      "\n",
      "                  Beta      Se    t-values\n",
      "--------------  ------  ------  ----------\n",
      "Constant        -0.107  0.1109       -0.97\n",
      "Black           -0.144  0.0477       -3.02\n",
      "Hispanic         0.020  0.0426        0.47\n",
      "Education        0.101  0.0089       11.34\n",
      "Experience       0.112  0.0083       13.47\n",
      "Experience sqr  -0.004  0.0006       -6.82\n",
      "Married          0.063  0.0169        3.73\n",
      "Union            0.108  0.0179        6.00\n",
      "R² = 0.178\n",
      "σ² = 0.126\n",
      "λ = 0.640\n"
     ]
    }
   ],
   "source": [
    "results_re = lm.estimate(\n",
    "    y_re, x_re, transform='re', n=n, t=t\n",
    ")\n",
    "lm.print_table(\n",
    "    labels=(label_y, label_x), results=results_re, _lambda=_lambda,\n",
    "    title='RE',\n",
    "    floatfmt=['', '.3f', '.4f', '.2f']\n",
    ")"
   ]
  },
  {
   "cell_type": "markdown",
   "metadata": {},
   "source": [
    "The table should look like this:\n",
    "\n",
    "RE <br>\n",
    "Dependent variable: Log wage\n",
    "\n",
    "|                |   Beta |     Se |   t-values |\n",
    "|----------------|--------|--------|------------|\n",
    "| Constant       | -0.107 | 0.1109 |      -0.97 |\n",
    "| Black          | -0.144 | 0.0477 |      -3.02 |\n",
    "| Hispanic       |  0.020 | 0.0426 |       0.47 |\n",
    "| Education      |  0.101 | 0.0089 |      11.34 |\n",
    "| Experience     |  0.112 | 0.0083 |      13.47 |\n",
    "| Experience sqr | -0.004 | 0.0006 |      -6.82 |\n",
    "| Married        |  0.063 | 0.0169 |       3.73 |\n",
    "| Union          |  0.108 | 0.0179 |       6.00 |\n",
    "R² = 0.178 <br>\n",
    "σ² = 0.126 <br>\n",
    "λ = 0.640"
   ]
  },
  {
   "cell_type": "markdown",
   "metadata": {},
   "source": [
    "### 5. Calculate the Hausman statistic and the p-value associated with the test of the crucial RE.1(b) assumption. Is this assumption satisfied? Which model should be preferred?"
   ]
  },
  {
   "cell_type": "code",
   "execution_count": 53,
   "metadata": {},
   "outputs": [],
   "source": [
    "# First calculate the covar matrices.\n",
    "# Remember to remove the FE time invarant regressors from RE\n",
    "hat_diff = results_fe['b_hat'] - results_re['b_hat'][4:]\n",
    "cov_diff = la.inv(results_fe['cov'] - results_re['cov'][4:, 4:])"
   ]
  },
  {
   "cell_type": "code",
   "execution_count": 54,
   "metadata": {},
   "outputs": [],
   "source": [
    "H = hat_diff.T@(cov_diff@hat_diff)\n",
    "# This takes the chi2 value, and then DF.\n",
    "p_val = chi2.sf(H, hat_diff.size)"
   ]
  },
  {
   "cell_type": "code",
   "execution_count": 55,
   "metadata": {},
   "outputs": [],
   "source": [
    "table = [results_fe['b_hat'], results_re['b_hat'][4:], hat_diff]"
   ]
  },
  {
   "cell_type": "code",
   "execution_count": 56,
   "metadata": {},
   "outputs": [],
   "source": [
    "table = []\n",
    "for i in range(len(hat_diff)):\n",
    "    row = [\n",
    "        results_fe['b_hat'][i], results_re['b_hat'][4:][i], hat_diff[i]\n",
    "    ]\n",
    "    table.append(row)"
   ]
  },
  {
   "cell_type": "code",
   "execution_count": 66,
   "metadata": {},
   "outputs": [
    {
     "name": "stdout",
     "output_type": "stream",
     "text": [
      "   b_fe     b_re    b_diff\n",
      "-------  -------  --------\n",
      " 0.1168   0.1121    0.0048\n",
      "-0.0043  -0.0041   -0.0002\n",
      " 0.0453   0.0630   -0.0177\n",
      " 0.0821   0.1077   -0.0256\n",
      "The Hausman test statistic is: 195.73, with p-value: 0.00.\n"
     ]
    }
   ],
   "source": [
    "print(tabulate(\n",
    "    table, headers=['b_fe', 'b_re', 'b_diff'], floatfmt='.4f'\n",
    "    ))\n",
    "print(f'The Hausman test statistic is: {H[0, 0]:.2f}, with p-value: {p_val[0, 0]:.2f}.')"
   ]
  },
  {
   "cell_type": "markdown",
   "metadata": {},
   "source": [
    "You should get a table that looks like this:\n",
    "\n",
    "|    b_fe |    b_re |   b_diff |\n",
    "|---------|---------|----------|\n",
    "|  0.1168 |  0.1121 |   0.0048 |\n",
    "| -0.0043 | -0.0041 |  -0.0002 |\n",
    "|  0.0453 |  0.0630 |  -0.0177 |\n",
    "|  0.0821 |  0.1077 |  -0.0256 |\n",
    "\n",
    "The Hausman test statistic is: 195.73, with p-value: 0.00."
   ]
  },
  {
   "cell_type": "code",
   "execution_count": null,
   "metadata": {},
   "outputs": [],
   "source": []
  }
 ],
 "metadata": {
  "kernelspec": {
   "display_name": "Python 3",
   "language": "python",
   "name": "python3"
  },
  "language_info": {
   "codemirror_mode": {
    "name": "ipython",
    "version": 3
   },
   "file_extension": ".py",
   "mimetype": "text/x-python",
   "name": "python",
   "nbconvert_exporter": "python",
   "pygments_lexer": "ipython3",
   "version": "3.8.3"
  }
 },
 "nbformat": 4,
 "nbformat_minor": 2
}
